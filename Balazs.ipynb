{
 "cells": [
  {
   "cell_type": "markdown",
   "metadata": {},
   "source": [
    "Metric 2 - Biggest and most populus neighborhood"
   ]
  },
  {
   "cell_type": "markdown",
   "metadata": {},
   "source": [
    "What is the best neighbourhood for a pigeon to live in?\n",
    "Well, the biggest one. More space, more garbage to pick at.\n",
    "But, since we now know that pigeons are actually surveilance drones, the ones with the most people in them.\n",
    "\n",
    "Therefore, the most populus and biggest by size.\n",
    "\n",
    "First, let's load the tools we need, and the first data file, the Neighborhoods."
   ]
  },
  {
   "cell_type": "code",
   "execution_count": 79,
   "metadata": {},
   "outputs": [
    {
     "data": {
      "text/html": [
       "<div>\n",
       "<style scoped>\n",
       "    .dataframe tbody tr th:only-of-type {\n",
       "        vertical-align: middle;\n",
       "    }\n",
       "\n",
       "    .dataframe tbody tr th {\n",
       "        vertical-align: top;\n",
       "    }\n",
       "\n",
       "    .dataframe thead th {\n",
       "        text-align: right;\n",
       "    }\n",
       "</style>\n",
       "<table border=\"1\" class=\"dataframe\">\n",
       "  <thead>\n",
       "    <tr style=\"text-align: right;\">\n",
       "      <th></th>\n",
       "      <th>objectid</th>\n",
       "      <th>fid_blockg</th>\n",
       "      <th>statefp10</th>\n",
       "      <th>countyfp10</th>\n",
       "      <th>tractce10</th>\n",
       "      <th>blkgrpce10</th>\n",
       "      <th>geoid10</th>\n",
       "      <th>namelsad10</th>\n",
       "      <th>mtfcc10</th>\n",
       "      <th>funcstat10</th>\n",
       "      <th>...</th>\n",
       "      <th>page_number</th>\n",
       "      <th>plannerassign</th>\n",
       "      <th>globalid</th>\n",
       "      <th>created_user</th>\n",
       "      <th>created_date</th>\n",
       "      <th>last_edited_user</th>\n",
       "      <th>last_edited_date</th>\n",
       "      <th>temp</th>\n",
       "      <th>shape_area</th>\n",
       "      <th>shape_length</th>\n",
       "    </tr>\n",
       "  </thead>\n",
       "  <tbody>\n",
       "    <tr>\n",
       "      <th>0</th>\n",
       "      <td>1</td>\n",
       "      <td>233</td>\n",
       "      <td>42</td>\n",
       "      <td>003</td>\n",
       "      <td>140500</td>\n",
       "      <td>3</td>\n",
       "      <td>420031405003</td>\n",
       "      <td>Block Group 3</td>\n",
       "      <td>G5030</td>\n",
       "      <td>S</td>\n",
       "      <td>...</td>\n",
       "      <td>15</td>\n",
       "      <td>Ose Akinlotan</td>\n",
       "      <td>a642a6b6-a2a9-48d5-acf2-3e2ce87d4bc0</td>\n",
       "      <td>SDE</td>\n",
       "      <td>2020-08-14T12:57:28</td>\n",
       "      <td>SDE</td>\n",
       "      <td>2020-08-14T13:02:13</td>\n",
       "      <td>NaN</td>\n",
       "      <td>8.153647e+06</td>\n",
       "      <td>14047.065024</td>\n",
       "    </tr>\n",
       "  </tbody>\n",
       "</table>\n",
       "<p>1 rows × 39 columns</p>\n",
       "</div>"
      ],
      "text/plain": [
       "   objectid  fid_blockg statefp10 countyfp10 tractce10 blkgrpce10  \\\n",
       "0         1         233        42        003    140500          3   \n",
       "\n",
       "        geoid10     namelsad10 mtfcc10 funcstat10  ...  page_number  \\\n",
       "0  420031405003  Block Group 3   G5030          S  ...           15   \n",
       "\n",
       "   plannerassign                              globalid created_user  \\\n",
       "0  Ose Akinlotan  a642a6b6-a2a9-48d5-acf2-3e2ce87d4bc0          SDE   \n",
       "\n",
       "          created_date  last_edited_user     last_edited_date  temp  \\\n",
       "0  2020-08-14T12:57:28               SDE  2020-08-14T13:02:13   NaN   \n",
       "\n",
       "     shape_area  shape_length  \n",
       "0  8.153647e+06  14047.065024  \n",
       "\n",
       "[1 rows x 39 columns]"
      ]
     },
     "execution_count": 79,
     "metadata": {},
     "output_type": "execute_result"
    }
   ],
   "source": [
    "import pandas as pd\n",
    "import geopandas\n",
    "import matplotlib.pyplot as plt\n",
    "from IPython.display import display\n",
    "%matplotlib inline\n",
    "biggest_hood = pd.read_csv(\"neighborhoods.csv\")\n",
    "biggest_hood.head(1)"
   ]
  },
  {
   "cell_type": "markdown",
   "metadata": {},
   "source": [
    "Let's strip out the data we dont need. To decide what we need, let's look at all the column names."
   ]
  },
  {
   "cell_type": "code",
   "execution_count": 50,
   "metadata": {},
   "outputs": [
    {
     "name": "stdout",
     "output_type": "stream",
     "text": [
      "objectid\n",
      "fid_blockg\n",
      "statefp10\n",
      "countyfp10\n",
      "tractce10\n",
      "blkgrpce10\n",
      "geoid10\n",
      "namelsad10\n",
      "mtfcc10\n",
      "funcstat10\n",
      "aland10\n",
      "awater10\n",
      "intptlat10\n",
      "intptlon10\n",
      "shape_leng\n",
      "fid_neighb\n",
      "pghdb_sde_neighborhood_2010_area\n",
      "perimeter\n",
      "neighbor\n",
      "neighbor_i\n",
      "hood\n",
      "hood_no\n",
      "acres\n",
      "sqmiles\n",
      "dpwdiv\n",
      "unique_id\n",
      "sectors\n",
      "shape_le_1\n",
      "shape_ar_1\n",
      "page_number\n",
      "plannerassign\n",
      "globalid\n",
      "created_user\n",
      "created_date\n",
      "last_edited_user\n",
      "last_edited_date\n",
      "temp\n",
      "shape_area\n",
      "shape_length\n"
     ]
    }
   ],
   "source": [
    "for col in biggest_hood.columns:\n",
    "    print(col)"
   ]
  },
  {
   "cell_type": "markdown",
   "metadata": {},
   "source": [
    "The data we are interested in is the \"hood\" and the \"acres\" colums. So lets filter these out, and look at the first 5 entries."
   ]
  },
  {
   "cell_type": "code",
   "execution_count": 13,
   "metadata": {},
   "outputs": [
    {
     "data": {
      "text/html": [
       "<div>\n",
       "<style scoped>\n",
       "    .dataframe tbody tr th:only-of-type {\n",
       "        vertical-align: middle;\n",
       "    }\n",
       "\n",
       "    .dataframe tbody tr th {\n",
       "        vertical-align: top;\n",
       "    }\n",
       "\n",
       "    .dataframe thead th {\n",
       "        text-align: right;\n",
       "    }\n",
       "</style>\n",
       "<table border=\"1\" class=\"dataframe\">\n",
       "  <thead>\n",
       "    <tr style=\"text-align: right;\">\n",
       "      <th></th>\n",
       "      <th>hood</th>\n",
       "      <th>acres</th>\n",
       "    </tr>\n",
       "  </thead>\n",
       "  <tbody>\n",
       "    <tr>\n",
       "      <th>0</th>\n",
       "      <td>Point Breeze North</td>\n",
       "      <td>183.781</td>\n",
       "    </tr>\n",
       "    <tr>\n",
       "      <th>1</th>\n",
       "      <td>Squirrel Hill North</td>\n",
       "      <td>785.948</td>\n",
       "    </tr>\n",
       "    <tr>\n",
       "      <th>2</th>\n",
       "      <td>Garfield</td>\n",
       "      <td>294.077</td>\n",
       "    </tr>\n",
       "    <tr>\n",
       "      <th>3</th>\n",
       "      <td>Bedford Dwellings</td>\n",
       "      <td>115.252</td>\n",
       "    </tr>\n",
       "    <tr>\n",
       "      <th>4</th>\n",
       "      <td>Knoxville</td>\n",
       "      <td>193.982</td>\n",
       "    </tr>\n",
       "  </tbody>\n",
       "</table>\n",
       "</div>"
      ],
      "text/plain": [
       "                  hood    acres\n",
       "0   Point Breeze North  183.781\n",
       "1  Squirrel Hill North  785.948\n",
       "2             Garfield  294.077\n",
       "3    Bedford Dwellings  115.252\n",
       "4            Knoxville  193.982"
      ]
     },
     "execution_count": 13,
     "metadata": {},
     "output_type": "execute_result"
    }
   ],
   "source": [
    "hoods.loc[:,[\"hood\",\"acres\"]].head(5)"
   ]
  },
  {
   "cell_type": "markdown",
   "metadata": {},
   "source": [
    "We only need the top 5, so let's sort it, descending, then slice the rest of the rows out."
   ]
  },
  {
   "cell_type": "code",
   "execution_count": 15,
   "metadata": {},
   "outputs": [
    {
     "data": {
      "text/html": [
       "<div>\n",
       "<style scoped>\n",
       "    .dataframe tbody tr th:only-of-type {\n",
       "        vertical-align: middle;\n",
       "    }\n",
       "\n",
       "    .dataframe tbody tr th {\n",
       "        vertical-align: top;\n",
       "    }\n",
       "\n",
       "    .dataframe thead th {\n",
       "        text-align: right;\n",
       "    }\n",
       "</style>\n",
       "<table border=\"1\" class=\"dataframe\">\n",
       "  <thead>\n",
       "    <tr style=\"text-align: right;\">\n",
       "      <th></th>\n",
       "      <th>hood</th>\n",
       "      <th>acres</th>\n",
       "    </tr>\n",
       "  </thead>\n",
       "  <tbody>\n",
       "    <tr>\n",
       "      <th>80</th>\n",
       "      <td>Squirrel Hill South</td>\n",
       "      <td>1717.485</td>\n",
       "    </tr>\n",
       "    <tr>\n",
       "      <th>24</th>\n",
       "      <td>Brookline</td>\n",
       "      <td>1338.669</td>\n",
       "    </tr>\n",
       "    <tr>\n",
       "      <th>25</th>\n",
       "      <td>Hays</td>\n",
       "      <td>1125.478</td>\n",
       "    </tr>\n",
       "    <tr>\n",
       "      <th>51</th>\n",
       "      <td>Carrick</td>\n",
       "      <td>1075.670</td>\n",
       "    </tr>\n",
       "    <tr>\n",
       "      <th>60</th>\n",
       "      <td>Hazelwood</td>\n",
       "      <td>1017.805</td>\n",
       "    </tr>\n",
       "  </tbody>\n",
       "</table>\n",
       "</div>"
      ],
      "text/plain": [
       "                   hood     acres\n",
       "80  Squirrel Hill South  1717.485\n",
       "24            Brookline  1338.669\n",
       "25                 Hays  1125.478\n",
       "51              Carrick  1075.670\n",
       "60            Hazelwood  1017.805"
      ]
     },
     "execution_count": 15,
     "metadata": {},
     "output_type": "execute_result"
    }
   ],
   "source": [
    "hoods.loc[:,[\"hood\",\"acres\"]].sort_values(by=[\"acres\"], ascending=False).head(5)"
   ]
  },
  {
   "cell_type": "markdown",
   "metadata": {},
   "source": [
    "Save the results into a mask, so we can visualize it better."
   ]
  },
  {
   "cell_type": "code",
   "execution_count": 17,
   "metadata": {},
   "outputs": [
    {
     "data": {
      "text/html": [
       "<div>\n",
       "<style scoped>\n",
       "    .dataframe tbody tr th:only-of-type {\n",
       "        vertical-align: middle;\n",
       "    }\n",
       "\n",
       "    .dataframe tbody tr th {\n",
       "        vertical-align: top;\n",
       "    }\n",
       "\n",
       "    .dataframe thead th {\n",
       "        text-align: right;\n",
       "    }\n",
       "</style>\n",
       "<table border=\"1\" class=\"dataframe\">\n",
       "  <thead>\n",
       "    <tr style=\"text-align: right;\">\n",
       "      <th></th>\n",
       "      <th>hood</th>\n",
       "      <th>acres</th>\n",
       "    </tr>\n",
       "  </thead>\n",
       "  <tbody>\n",
       "    <tr>\n",
       "      <th>80</th>\n",
       "      <td>Squirrel Hill South</td>\n",
       "      <td>1717.485</td>\n",
       "    </tr>\n",
       "    <tr>\n",
       "      <th>24</th>\n",
       "      <td>Brookline</td>\n",
       "      <td>1338.669</td>\n",
       "    </tr>\n",
       "    <tr>\n",
       "      <th>25</th>\n",
       "      <td>Hays</td>\n",
       "      <td>1125.478</td>\n",
       "    </tr>\n",
       "    <tr>\n",
       "      <th>51</th>\n",
       "      <td>Carrick</td>\n",
       "      <td>1075.670</td>\n",
       "    </tr>\n",
       "    <tr>\n",
       "      <th>60</th>\n",
       "      <td>Hazelwood</td>\n",
       "      <td>1017.805</td>\n",
       "    </tr>\n",
       "  </tbody>\n",
       "</table>\n",
       "</div>"
      ],
      "text/plain": [
       "                   hood     acres\n",
       "80  Squirrel Hill South  1717.485\n",
       "24            Brookline  1338.669\n",
       "25                 Hays  1125.478\n",
       "51              Carrick  1075.670\n",
       "60            Hazelwood  1017.805"
      ]
     },
     "execution_count": 17,
     "metadata": {},
     "output_type": "execute_result"
    }
   ],
   "source": [
    "hood_acres=hoods.loc[:,[\"hood\",\"acres\"]].sort_values(by=[\"acres\"], ascending=False).head(5)\n",
    "hood_acres"
   ]
  },
  {
   "cell_type": "markdown",
   "metadata": {},
   "source": [
    "A bar chart will be perfect for this."
   ]
  },
  {
   "cell_type": "code",
   "execution_count": 61,
   "metadata": {},
   "outputs": [
    {
     "data": {
      "text/plain": [
       "<matplotlib.axes._subplots.AxesSubplot at 0x7fbebf807f10>"
      ]
     },
     "execution_count": 61,
     "metadata": {},
     "output_type": "execute_result"
    },
    {
     "data": {
      "image/png": "[encoded data removed]",
      "text/plain": [
       "<Figure size 432x288 with 1 Axes>"
      ]
     },
     "metadata": {
      "needs_background": "light"
     },
     "output_type": "display_data"
    }
   ],
   "source": [
    "hood_acres.plot(kind='bar')"
   ]
  },
  {
   "cell_type": "code",
   "execution_count": null,
   "metadata": {},
   "outputs": [],
   "source": [
    "After a little tailoring, we have a pretty chart!"
   ]
  },
  {
   "cell_type": "code",
   "execution_count": 67,
   "metadata": {},
   "outputs": [
    {
     "data": {
      "text/plain": [
       "Text(0, 0.5, 'Size in acres')"
      ]
     },
     "execution_count": 67,
     "metadata": {},
     "output_type": "execute_result"
    },
    {
     "data": {
      "image/png": "[encoded data removed]",
      "text/plain": [
       "<Figure size 432x288 with 1 Axes>"
      ]
     },
     "metadata": {
      "needs_background": "light"
     },
     "output_type": "display_data"
    }
   ],
   "source": [
    "plotdata =pd.DataFrame({\"acres\":[1717.485, 1338.669, 1125.478, 1075.670, 1017.805]}, index=[\"Squirrel Hill S.\", \"Brookline\", \"Hays\", \"Carrick\", \"Hazelwood\"])\n",
    "plotdata.plot.bar(rot=5)\n",
    "plt.title(\"Biggest Neighborhood\")\n",
    "plt.xlabel(\"Neighborhoods\")\n",
    "plt.ylabel(\"Size in acres\")"
   ]
  },
  {
   "cell_type": "markdown",
   "metadata": {},
   "source": [
    "Next, let's repeat the same steps to find the most populus neighbourhood. "
   ]
  },
  {
   "cell_type": "code",
   "execution_count": 53,
   "metadata": {},
   "outputs": [
    {
     "data": {
      "text/html": [
       "<div>\n",
       "<style scoped>\n",
       "    .dataframe tbody tr th:only-of-type {\n",
       "        vertical-align: middle;\n",
       "    }\n",
       "\n",
       "    .dataframe tbody tr th {\n",
       "        vertical-align: top;\n",
       "    }\n",
       "\n",
       "    .dataframe thead th {\n",
       "        text-align: right;\n",
       "    }\n",
       "</style>\n",
       "<table border=\"1\" class=\"dataframe\">\n",
       "  <thead>\n",
       "    <tr style=\"text-align: right;\">\n",
       "      <th></th>\n",
       "      <th>Neighborhood</th>\n",
       "      <th>Sector #</th>\n",
       "      <th>Population (2010)</th>\n",
       "      <th>Miles of Major Roads</th>\n",
       "      <th>Total Street Miles</th>\n",
       "      <th>Street Density (st. mi/area sq. mi)</th>\n",
       "      <th># Sets of Steps</th>\n",
       "      <th># Step Treads</th>\n",
       "      <th>Res. Permit Parking Area(s)</th>\n",
       "      <th>Total Working Pop. (Age 16+) (2010)</th>\n",
       "      <th>Commute to Work: Drive Alone (2010)</th>\n",
       "      <th>Commute to Work: Carpool/Vanpool (2010)</th>\n",
       "      <th>Commute to Work: Public Transportation (2010)</th>\n",
       "      <th>Commute to Work: Taxi (2010)</th>\n",
       "      <th>Commute to Work: Motorcycle (2010)</th>\n",
       "      <th>Commute to Work: Bicycle (2010)</th>\n",
       "      <th>Commute to Work: Walk (2010)</th>\n",
       "      <th>Commute to Work: Other (2010)</th>\n",
       "      <th>Work at Home (2010)</th>\n",
       "    </tr>\n",
       "  </thead>\n",
       "  <tbody>\n",
       "    <tr>\n",
       "      <th>0</th>\n",
       "      <td>Allegheny Center</td>\n",
       "      <td>3</td>\n",
       "      <td>933</td>\n",
       "      <td>2.232425</td>\n",
       "      <td>4.141467</td>\n",
       "      <td>19.721273</td>\n",
       "      <td>0</td>\n",
       "      <td>0</td>\n",
       "      <td>None</td>\n",
       "      <td>386</td>\n",
       "      <td>0.277202</td>\n",
       "      <td>0.098446</td>\n",
       "      <td>0.168394</td>\n",
       "      <td>0.000000</td>\n",
       "      <td>0.000000</td>\n",
       "      <td>0.0</td>\n",
       "      <td>0.437824</td>\n",
       "      <td>0.000000</td>\n",
       "      <td>0.018135</td>\n",
       "    </tr>\n",
       "    <tr>\n",
       "      <th>1</th>\n",
       "      <td>Allegheny West</td>\n",
       "      <td>3</td>\n",
       "      <td>462</td>\n",
       "      <td>1.471627</td>\n",
       "      <td>4.870843</td>\n",
       "      <td>34.544983</td>\n",
       "      <td>0</td>\n",
       "      <td>0</td>\n",
       "      <td>G</td>\n",
       "      <td>151</td>\n",
       "      <td>0.231788</td>\n",
       "      <td>0.205298</td>\n",
       "      <td>0.158940</td>\n",
       "      <td>0.145695</td>\n",
       "      <td>0.000000</td>\n",
       "      <td>0.0</td>\n",
       "      <td>0.258278</td>\n",
       "      <td>0.000000</td>\n",
       "      <td>0.000000</td>\n",
       "    </tr>\n",
       "    <tr>\n",
       "      <th>2</th>\n",
       "      <td>Allentown</td>\n",
       "      <td>6</td>\n",
       "      <td>2500</td>\n",
       "      <td>1.648451</td>\n",
       "      <td>12.325689</td>\n",
       "      <td>41.781996</td>\n",
       "      <td>12</td>\n",
       "      <td>474</td>\n",
       "      <td>None</td>\n",
       "      <td>824</td>\n",
       "      <td>0.469660</td>\n",
       "      <td>0.109223</td>\n",
       "      <td>0.379854</td>\n",
       "      <td>0.000000</td>\n",
       "      <td>0.008495</td>\n",
       "      <td>0.0</td>\n",
       "      <td>0.000000</td>\n",
       "      <td>0.014563</td>\n",
       "      <td>0.018204</td>\n",
       "    </tr>\n",
       "    <tr>\n",
       "      <th>3</th>\n",
       "      <td>Arlington</td>\n",
       "      <td>7</td>\n",
       "      <td>1869</td>\n",
       "      <td>0.861571</td>\n",
       "      <td>10.734269</td>\n",
       "      <td>22.838871</td>\n",
       "      <td>13</td>\n",
       "      <td>428</td>\n",
       "      <td>None</td>\n",
       "      <td>673</td>\n",
       "      <td>0.739970</td>\n",
       "      <td>0.072808</td>\n",
       "      <td>0.135215</td>\n",
       "      <td>0.000000</td>\n",
       "      <td>0.000000</td>\n",
       "      <td>0.0</td>\n",
       "      <td>0.019316</td>\n",
       "      <td>0.008915</td>\n",
       "      <td>0.023774</td>\n",
       "    </tr>\n",
       "    <tr>\n",
       "      <th>4</th>\n",
       "      <td>Arlington Heights</td>\n",
       "      <td>7</td>\n",
       "      <td>244</td>\n",
       "      <td>0.000000</td>\n",
       "      <td>1.086460</td>\n",
       "      <td>8.230760</td>\n",
       "      <td>0</td>\n",
       "      <td>0</td>\n",
       "      <td>None</td>\n",
       "      <td>72</td>\n",
       "      <td>0.111111</td>\n",
       "      <td>0.000000</td>\n",
       "      <td>0.888889</td>\n",
       "      <td>0.000000</td>\n",
       "      <td>0.000000</td>\n",
       "      <td>0.0</td>\n",
       "      <td>0.000000</td>\n",
       "      <td>0.000000</td>\n",
       "      <td>0.000000</td>\n",
       "    </tr>\n",
       "  </tbody>\n",
       "</table>\n",
       "</div>"
      ],
      "text/plain": [
       "        Neighborhood  Sector #  Population (2010)  Miles of Major Roads  \\\n",
       "0   Allegheny Center         3                933              2.232425   \n",
       "1     Allegheny West         3                462              1.471627   \n",
       "2          Allentown         6               2500              1.648451   \n",
       "3          Arlington         7               1869              0.861571   \n",
       "4  Arlington Heights         7                244              0.000000   \n",
       "\n",
       "   Total Street Miles  Street Density (st. mi/area sq. mi)  # Sets of Steps  \\\n",
       "0            4.141467                            19.721273                0   \n",
       "1            4.870843                            34.544983                0   \n",
       "2           12.325689                            41.781996               12   \n",
       "3           10.734269                            22.838871               13   \n",
       "4            1.086460                             8.230760                0   \n",
       "\n",
       "   # Step Treads Res. Permit Parking Area(s)  \\\n",
       "0              0                        None   \n",
       "1              0                           G   \n",
       "2            474                        None   \n",
       "3            428                        None   \n",
       "4              0                        None   \n",
       "\n",
       "   Total Working Pop. (Age 16+) (2010)  Commute to Work: Drive Alone (2010)  \\\n",
       "0                                  386                             0.277202   \n",
       "1                                  151                             0.231788   \n",
       "2                                  824                             0.469660   \n",
       "3                                  673                             0.739970   \n",
       "4                                   72                             0.111111   \n",
       "\n",
       "   Commute to Work: Carpool/Vanpool (2010)  \\\n",
       "0                                 0.098446   \n",
       "1                                 0.205298   \n",
       "2                                 0.109223   \n",
       "3                                 0.072808   \n",
       "4                                 0.000000   \n",
       "\n",
       "   Commute to Work: Public Transportation (2010)  \\\n",
       "0                                       0.168394   \n",
       "1                                       0.158940   \n",
       "2                                       0.379854   \n",
       "3                                       0.135215   \n",
       "4                                       0.888889   \n",
       "\n",
       "   Commute to Work: Taxi (2010)  Commute to Work: Motorcycle (2010)  \\\n",
       "0                      0.000000                            0.000000   \n",
       "1                      0.145695                            0.000000   \n",
       "2                      0.000000                            0.008495   \n",
       "3                      0.000000                            0.000000   \n",
       "4                      0.000000                            0.000000   \n",
       "\n",
       "   Commute to Work: Bicycle (2010)  Commute to Work: Walk (2010)  \\\n",
       "0                              0.0                      0.437824   \n",
       "1                              0.0                      0.258278   \n",
       "2                              0.0                      0.000000   \n",
       "3                              0.0                      0.019316   \n",
       "4                              0.0                      0.000000   \n",
       "\n",
       "   Commute to Work: Other (2010)  Work at Home (2010)  \n",
       "0                       0.000000             0.018135  \n",
       "1                       0.000000             0.000000  \n",
       "2                       0.014563             0.018204  \n",
       "3                       0.008915             0.023774  \n",
       "4                       0.000000             0.000000  "
      ]
     },
     "execution_count": 53,
     "metadata": {},
     "output_type": "execute_result"
    }
   ],
   "source": [
    "populous_hood = pd.read_csv(\"census.csv\")\n",
    "populous_hood.head(5)"
   ]
  },
  {
   "cell_type": "code",
   "execution_count": 52,
   "metadata": {},
   "outputs": [
    {
     "name": "stdout",
     "output_type": "stream",
     "text": [
      "<class 'pandas.core.frame.DataFrame'>\n",
      "RangeIndex: 90 entries, 0 to 89\n",
      "Data columns (total 19 columns):\n",
      " #   Column                                         Non-Null Count  Dtype  \n",
      "---  ------                                         --------------  -----  \n",
      " 0   Neighborhood                                   90 non-null     object \n",
      " 1   Sector #                                       90 non-null     int64  \n",
      " 2   Population (2010)                              90 non-null     int64  \n",
      " 3   Miles of Major Roads                           90 non-null     float64\n",
      " 4   Total Street Miles                             90 non-null     float64\n",
      " 5   Street Density (st. mi/area sq. mi)            90 non-null     float64\n",
      " 6   # Sets of Steps                                90 non-null     int64  \n",
      " 7   # Step Treads                                  90 non-null     int64  \n",
      " 8   Res. Permit Parking Area(s)                    90 non-null     object \n",
      " 9   Total Working Pop. (Age 16+) (2010)            90 non-null     int64  \n",
      " 10  Commute to Work: Drive Alone (2010)            89 non-null     float64\n",
      " 11  Commute to Work: Carpool/Vanpool (2010)        89 non-null     float64\n",
      " 12  Commute to Work: Public Transportation (2010)  89 non-null     float64\n",
      " 13  Commute to Work: Taxi (2010)                   89 non-null     float64\n",
      " 14  Commute to Work: Motorcycle (2010)             89 non-null     float64\n",
      " 15  Commute to Work: Bicycle (2010)                89 non-null     float64\n",
      " 16  Commute to Work: Walk (2010)                   89 non-null     float64\n",
      " 17  Commute to Work: Other (2010)                  89 non-null     float64\n",
      " 18  Work at Home (2010)                            89 non-null     float64\n",
      "dtypes: float64(12), int64(5), object(2)\n",
      "memory usage: 13.5+ KB\n"
     ]
    }
   ],
   "source": [
    "# a different way to check the column names\n",
    "populous_hood.info()"
   ]
  },
  {
   "cell_type": "code",
   "execution_count": 55,
   "metadata": {},
   "outputs": [
    {
     "data": {
      "text/html": [
       "<div>\n",
       "<style scoped>\n",
       "    .dataframe tbody tr th:only-of-type {\n",
       "        vertical-align: middle;\n",
       "    }\n",
       "\n",
       "    .dataframe tbody tr th {\n",
       "        vertical-align: top;\n",
       "    }\n",
       "\n",
       "    .dataframe thead th {\n",
       "        text-align: right;\n",
       "    }\n",
       "</style>\n",
       "<table border=\"1\" class=\"dataframe\">\n",
       "  <thead>\n",
       "    <tr style=\"text-align: right;\">\n",
       "      <th></th>\n",
       "      <th>Neighborhood</th>\n",
       "      <th>Population (2010)</th>\n",
       "    </tr>\n",
       "  </thead>\n",
       "  <tbody>\n",
       "    <tr>\n",
       "      <th>0</th>\n",
       "      <td>Allegheny Center</td>\n",
       "      <td>933</td>\n",
       "    </tr>\n",
       "    <tr>\n",
       "      <th>1</th>\n",
       "      <td>Allegheny West</td>\n",
       "      <td>462</td>\n",
       "    </tr>\n",
       "    <tr>\n",
       "      <th>2</th>\n",
       "      <td>Allentown</td>\n",
       "      <td>2500</td>\n",
       "    </tr>\n",
       "    <tr>\n",
       "      <th>3</th>\n",
       "      <td>Arlington</td>\n",
       "      <td>1869</td>\n",
       "    </tr>\n",
       "    <tr>\n",
       "      <th>4</th>\n",
       "      <td>Arlington Heights</td>\n",
       "      <td>244</td>\n",
       "    </tr>\n",
       "  </tbody>\n",
       "</table>\n",
       "</div>"
      ],
      "text/plain": [
       "        Neighborhood  Population (2010)\n",
       "0   Allegheny Center                933\n",
       "1     Allegheny West                462\n",
       "2          Allentown               2500\n",
       "3          Arlington               1869\n",
       "4  Arlington Heights                244"
      ]
     },
     "execution_count": 55,
     "metadata": {},
     "output_type": "execute_result"
    }
   ],
   "source": [
    "populous_hood.loc[:,[\"Neighborhood\",\"Population (2010)\"]].head(5)"
   ]
  },
  {
   "cell_type": "code",
   "execution_count": 58,
   "metadata": {},
   "outputs": [
    {
     "data": {
      "text/html": [
       "<div>\n",
       "<style scoped>\n",
       "    .dataframe tbody tr th:only-of-type {\n",
       "        vertical-align: middle;\n",
       "    }\n",
       "\n",
       "    .dataframe tbody tr th {\n",
       "        vertical-align: top;\n",
       "    }\n",
       "\n",
       "    .dataframe thead th {\n",
       "        text-align: right;\n",
       "    }\n",
       "</style>\n",
       "<table border=\"1\" class=\"dataframe\">\n",
       "  <thead>\n",
       "    <tr style=\"text-align: right;\">\n",
       "      <th></th>\n",
       "      <th>Neighborhood</th>\n",
       "      <th>Population (2010)</th>\n",
       "    </tr>\n",
       "  </thead>\n",
       "  <tbody>\n",
       "    <tr>\n",
       "      <th>76</th>\n",
       "      <td>Squirrel Hill South</td>\n",
       "      <td>15110</td>\n",
       "    </tr>\n",
       "    <tr>\n",
       "      <th>67</th>\n",
       "      <td>Shadyside</td>\n",
       "      <td>13915</td>\n",
       "    </tr>\n",
       "    <tr>\n",
       "      <th>13</th>\n",
       "      <td>Brookline</td>\n",
       "      <td>13214</td>\n",
       "    </tr>\n",
       "    <tr>\n",
       "      <th>75</th>\n",
       "      <td>Squirrel Hill North</td>\n",
       "      <td>11363</td>\n",
       "    </tr>\n",
       "    <tr>\n",
       "      <th>55</th>\n",
       "      <td>North Oakland</td>\n",
       "      <td>10551</td>\n",
       "    </tr>\n",
       "  </tbody>\n",
       "</table>\n",
       "</div>"
      ],
      "text/plain": [
       "           Neighborhood  Population (2010)\n",
       "76  Squirrel Hill South              15110\n",
       "67            Shadyside              13915\n",
       "13            Brookline              13214\n",
       "75  Squirrel Hill North              11363\n",
       "55        North Oakland              10551"
      ]
     },
     "execution_count": 58,
     "metadata": {},
     "output_type": "execute_result"
    }
   ],
   "source": [
    "most_populous_hood=populous_hood.loc[:,[\"Neighborhood\",\"Population (2010)\"]].sort_values(by=[\"Population (2010)\"], ascending=False).head(5)\n",
    "most_populous_hood"
   ]
  },
  {
   "cell_type": "code",
   "execution_count": 62,
   "metadata": {},
   "outputs": [
    {
     "data": {
      "text/plain": [
       "<matplotlib.axes._subplots.AxesSubplot at 0x7fbebf4cc220>"
      ]
     },
     "execution_count": 62,
     "metadata": {},
     "output_type": "execute_result"
    },
    {
     "data": {
      "image/png": "[encoded data removed]",
      "text/plain": [
       "<Figure size 432x288 with 1 Axes>"
      ]
     },
     "metadata": {
      "needs_background": "light"
     },
     "output_type": "display_data"
    }
   ],
   "source": [
    "most_populous_hood.plot(kind='bar')"
   ]
  },
  {
   "cell_type": "code",
   "execution_count": 64,
   "metadata": {},
   "outputs": [
    {
     "data": {
      "text/plain": [
       "Text(0, 0.5, 'Population')"
      ]
     },
     "execution_count": 64,
     "metadata": {},
     "output_type": "execute_result"
    },
    {
     "data": {
      "image/png": "[encoded data removed]",
      "text/plain": [
       "<Figure size 432x288 with 1 Axes>"
      ]
     },
     "metadata": {
      "needs_background": "light"
     },
     "output_type": "display_data"
    }
   ],
   "source": [
    "plotdata2 =pd.DataFrame({\"Population\":[15110,13915,13214,11363,10551]}, index=[\"Squirrel Hill S.\", \"Shadyside\", \"Brookline\", \"Squirrel Hill N.\", \"North Oakland\"])\n",
    "plotdata2.plot.bar(rot=5)\n",
    "plt.title(\"Most Populous Neighborhood\")\n",
    "plt.xlabel(\"Neighborhoods\")\n",
    "plt.ylabel(\"Population\")"
   ]
  },
  {
   "cell_type": "code",
   "execution_count": 81,
   "metadata": {},
   "outputs": [
    {
     "data": {
      "text/html": [
       "<div>\n",
       "<style scoped>\n",
       "    .dataframe tbody tr th:only-of-type {\n",
       "        vertical-align: middle;\n",
       "    }\n",
       "\n",
       "    .dataframe tbody tr th {\n",
       "        vertical-align: top;\n",
       "    }\n",
       "\n",
       "    .dataframe thead th {\n",
       "        text-align: right;\n",
       "    }\n",
       "</style>\n",
       "<table border=\"1\" class=\"dataframe\">\n",
       "  <thead>\n",
       "    <tr style=\"text-align: right;\">\n",
       "      <th></th>\n",
       "      <th>acres</th>\n",
       "    </tr>\n",
       "  </thead>\n",
       "  <tbody>\n",
       "    <tr>\n",
       "      <th>Squirrel Hill S.</th>\n",
       "      <td>1717.485</td>\n",
       "    </tr>\n",
       "    <tr>\n",
       "      <th>Brookline</th>\n",
       "      <td>1338.669</td>\n",
       "    </tr>\n",
       "    <tr>\n",
       "      <th>Hays</th>\n",
       "      <td>1125.478</td>\n",
       "    </tr>\n",
       "    <tr>\n",
       "      <th>Carrick</th>\n",
       "      <td>1075.670</td>\n",
       "    </tr>\n",
       "    <tr>\n",
       "      <th>Hazelwood</th>\n",
       "      <td>1017.805</td>\n",
       "    </tr>\n",
       "  </tbody>\n",
       "</table>\n",
       "</div>"
      ],
      "text/plain": [
       "                     acres\n",
       "Squirrel Hill S.  1717.485\n",
       "Brookline         1338.669\n",
       "Hays              1125.478\n",
       "Carrick           1075.670\n",
       "Hazelwood         1017.805"
      ]
     },
     "execution_count": 81,
     "metadata": {},
     "output_type": "execute_result"
    }
   ],
   "source": [
    "plotdata"
   ]
  },
  {
   "cell_type": "code",
   "execution_count": 82,
   "metadata": {},
   "outputs": [
    {
     "data": {
      "text/html": [
       "<div>\n",
       "<style scoped>\n",
       "    .dataframe tbody tr th:only-of-type {\n",
       "        vertical-align: middle;\n",
       "    }\n",
       "\n",
       "    .dataframe tbody tr th {\n",
       "        vertical-align: top;\n",
       "    }\n",
       "\n",
       "    .dataframe thead th {\n",
       "        text-align: right;\n",
       "    }\n",
       "</style>\n",
       "<table border=\"1\" class=\"dataframe\">\n",
       "  <thead>\n",
       "    <tr style=\"text-align: right;\">\n",
       "      <th></th>\n",
       "      <th>Population</th>\n",
       "    </tr>\n",
       "  </thead>\n",
       "  <tbody>\n",
       "    <tr>\n",
       "      <th>Squirrel Hill S.</th>\n",
       "      <td>15110</td>\n",
       "    </tr>\n",
       "    <tr>\n",
       "      <th>Shadyside</th>\n",
       "      <td>13915</td>\n",
       "    </tr>\n",
       "    <tr>\n",
       "      <th>Brookline</th>\n",
       "      <td>13214</td>\n",
       "    </tr>\n",
       "    <tr>\n",
       "      <th>Squirrel Hill N.</th>\n",
       "      <td>11363</td>\n",
       "    </tr>\n",
       "    <tr>\n",
       "      <th>North Oakland</th>\n",
       "      <td>10551</td>\n",
       "    </tr>\n",
       "  </tbody>\n",
       "</table>\n",
       "</div>"
      ],
      "text/plain": [
       "                  Population\n",
       "Squirrel Hill S.       15110\n",
       "Shadyside              13915\n",
       "Brookline              13214\n",
       "Squirrel Hill N.       11363\n",
       "North Oakland          10551"
      ]
     },
     "execution_count": 82,
     "metadata": {},
     "output_type": "execute_result"
    }
   ],
   "source": [
    "plotdata2"
   ]
  },
  {
   "cell_type": "markdown",
   "metadata": {},
   "source": [
    "Squirrel Hill is the Winner! Best palce for a pigeon."
   ]
  }
 ],
 "metadata": {
  "kernelspec": {
   "display_name": "Python 3",
   "language": "python",
   "name": "python3"
  },
  "language_info": {
   "codemirror_mode": {
    "name": "ipython",
    "version": 3
   },
   "file_extension": ".py",
   "mimetype": "text/x-python",
   "name": "python",
   "nbconvert_exporter": "python",
   "pygments_lexer": "ipython3",
   "version": "3.8.3"
  }
 },
 "nbformat": 4,
 "nbformat_minor": 4
}
