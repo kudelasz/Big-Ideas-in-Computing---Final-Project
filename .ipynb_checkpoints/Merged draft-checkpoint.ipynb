{
 "cells": [
  {
   "cell_type": "markdown",
   "metadata": {},
   "source": [
    "The Plan:\n",
    "\n",
    "The best neighbourhood to live in for families with children\n",
    "\n",
    "metric 1 - Parks\n",
    "    dataset 1 - parks\n",
    "    dataset 2 - playground equipment\n",
    "    dataset 3 - ballfields\n",
    "\n",
    "metric 2 - Crime\n",
    "    dataset 4 - police training\n",
    "    dataset 5 - police arrest data\n",
    "    dataset 6 - firearm seizures\n",
    "    \n",
    "metric 3 - real estate\n",
    "    dataset 7 - condemned real estate\n",
    "    dataset 8 - landslide prone areas\n",
    "    dataset 9 - metered streets\n",
    "    dataset 10 - zoning\n",
    "\n",
    "\n",
    "\n",
    "Merged Draft code below"
   ]
  },
  {
   "cell_type": "markdown",
   "metadata": {},
   "source": [
    "Balazs"
   ]
  },
  {
   "cell_type": "code",
   "execution_count": null,
   "metadata": {},
   "outputs": [],
   "source": []
  },
  {
   "cell_type": "markdown",
   "metadata": {},
   "source": [
    "Jamie"
   ]
  },
  {
   "cell_type": "code",
   "execution_count": null,
   "metadata": {},
   "outputs": [],
   "source": []
  },
  {
   "cell_type": "markdown",
   "metadata": {},
   "source": [
    "Jason"
   ]
  },
  {
   "cell_type": "code",
   "execution_count": null,
   "metadata": {},
   "outputs": [],
   "source": []
  }
 ],
 "metadata": {
  "kernelspec": {
   "display_name": "Python 3",
   "language": "python",
   "name": "python3"
  },
  "language_info": {
   "codemirror_mode": {
    "name": "ipython",
    "version": 3
   },
   "file_extension": ".py",
   "mimetype": "text/x-python",
   "name": "python",
   "nbconvert_exporter": "python",
   "pygments_lexer": "ipython3",
   "version": "3.8.3"
  }
 },
 "nbformat": 4,
 "nbformat_minor": 4
}
