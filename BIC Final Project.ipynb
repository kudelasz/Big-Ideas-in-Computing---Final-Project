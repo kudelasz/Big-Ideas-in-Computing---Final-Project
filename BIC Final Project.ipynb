{
 "cells": [
  {
   "cell_type": "markdown",
   "metadata": {},
   "source": [
    "# Operation Pigeon: The Best neighborhood in Pittsburgh for a pigeon"
   ]
  },
  {
   "cell_type": "markdown",
   "metadata": {},
   "source": [
    "What is the best neighbourhood for a pigeon to live in?\n",
    "\n",
    "In our opinion:\n",
    "1. The biggest one. More space, more garbage to pick at.\n",
    "2. The mot populous one. More people, more garbage\n",
    "3. The one wiht the highest traffic. More traffic, more people, more garbage..\n",
    "4. And finally, the one with the most public Wifi. (whaat?)"
   ]
  },
  {
   "cell_type": "markdown",
   "metadata": {},
   "source": [
    "## Metric 1: The biggest and most populous neighborhood\n",
    "#### Balazs Kudelasz - bak97\n",
    "\n",
    "To determine the biggest and most populous neighborhood, i will use two datasets:\n",
    "* Neighborhoods\n",
    "* Pittsburgh SNAP Census Data\n",
    "\n",
    "First, let's load the tools we need, and the first data file, the Neighborhoods. Then, lets look at the first line just to make sure it loads."
   ]
  },
  {
   "cell_type": "code",
   "execution_count": 1,
   "metadata": {},
   "outputs": [
    {
     "data": {
      "text/html": [
       "<div>\n",
       "<style scoped>\n",
       "    .dataframe tbody tr th:only-of-type {\n",
       "        vertical-align: middle;\n",
       "    }\n",
       "\n",
       "    .dataframe tbody tr th {\n",
       "        vertical-align: top;\n",
       "    }\n",
       "\n",
       "    .dataframe thead th {\n",
       "        text-align: right;\n",
       "    }\n",
       "</style>\n",
       "<table border=\"1\" class=\"dataframe\">\n",
       "  <thead>\n",
       "    <tr style=\"text-align: right;\">\n",
       "      <th></th>\n",
       "      <th>objectid</th>\n",
       "      <th>fid_blockg</th>\n",
       "      <th>statefp10</th>\n",
       "      <th>countyfp10</th>\n",
       "      <th>tractce10</th>\n",
       "      <th>blkgrpce10</th>\n",
       "      <th>geoid10</th>\n",
       "      <th>namelsad10</th>\n",
       "      <th>mtfcc10</th>\n",
       "      <th>funcstat10</th>\n",
       "      <th>...</th>\n",
       "      <th>page_number</th>\n",
       "      <th>plannerassign</th>\n",
       "      <th>globalid</th>\n",
       "      <th>created_user</th>\n",
       "      <th>created_date</th>\n",
       "      <th>last_edited_user</th>\n",
       "      <th>last_edited_date</th>\n",
       "      <th>temp</th>\n",
       "      <th>shape_area</th>\n",
       "      <th>shape_length</th>\n",
       "    </tr>\n",
       "  </thead>\n",
       "  <tbody>\n",
       "    <tr>\n",
       "      <th>0</th>\n",
       "      <td>1</td>\n",
       "      <td>233</td>\n",
       "      <td>42</td>\n",
       "      <td>003</td>\n",
       "      <td>140500</td>\n",
       "      <td>3</td>\n",
       "      <td>420031405003</td>\n",
       "      <td>Block Group 3</td>\n",
       "      <td>G5030</td>\n",
       "      <td>S</td>\n",
       "      <td>...</td>\n",
       "      <td>15</td>\n",
       "      <td>Ose Akinlotan</td>\n",
       "      <td>a642a6b6-a2a9-48d5-acf2-3e2ce87d4bc0</td>\n",
       "      <td>SDE</td>\n",
       "      <td>2020-08-14T12:57:28</td>\n",
       "      <td>SDE</td>\n",
       "      <td>2020-08-14T13:02:13</td>\n",
       "      <td>NaN</td>\n",
       "      <td>8.153647e+06</td>\n",
       "      <td>14047.065024</td>\n",
       "    </tr>\n",
       "  </tbody>\n",
       "</table>\n",
       "<p>1 rows × 39 columns</p>\n",
       "</div>"
      ],
      "text/plain": [
       "   objectid  fid_blockg statefp10 countyfp10 tractce10 blkgrpce10  \\\n",
       "0         1         233        42        003    140500          3   \n",
       "\n",
       "        geoid10     namelsad10 mtfcc10 funcstat10  ...  page_number  \\\n",
       "0  420031405003  Block Group 3   G5030          S  ...           15   \n",
       "\n",
       "   plannerassign                              globalid created_user  \\\n",
       "0  Ose Akinlotan  a642a6b6-a2a9-48d5-acf2-3e2ce87d4bc0          SDE   \n",
       "\n",
       "          created_date  last_edited_user     last_edited_date  temp  \\\n",
       "0  2020-08-14T12:57:28               SDE  2020-08-14T13:02:13   NaN   \n",
       "\n",
       "     shape_area  shape_length  \n",
       "0  8.153647e+06  14047.065024  \n",
       "\n",
       "[1 rows x 39 columns]"
      ]
     },
     "execution_count": 1,
     "metadata": {},
     "output_type": "execute_result"
    }
   ],
   "source": [
    "import pandas as pd\n",
    "import geopandas\n",
    "import matplotlib.pyplot as plt\n",
    "from IPython.display import display\n",
    "%matplotlib inline\n",
    "biggest_hood = pd.read_csv(\"neighborhoods.csv\")\n",
    "biggest_hood.head(1)"
   ]
  },
  {
   "cell_type": "markdown",
   "metadata": {},
   "source": [
    "Let's strip out the data we dont need. To decide what we need, let's look at all the column names. In this example, with a for loop."
   ]
  },
  {
   "cell_type": "code",
   "execution_count": 2,
   "metadata": {},
   "outputs": [
    {
     "name": "stdout",
     "output_type": "stream",
     "text": [
      "objectid\n",
      "fid_blockg\n",
      "statefp10\n",
      "countyfp10\n",
      "tractce10\n",
      "blkgrpce10\n",
      "geoid10\n",
      "namelsad10\n",
      "mtfcc10\n",
      "funcstat10\n",
      "aland10\n",
      "awater10\n",
      "intptlat10\n",
      "intptlon10\n",
      "shape_leng\n",
      "fid_neighb\n",
      "pghdb_sde_neighborhood_2010_area\n",
      "perimeter\n",
      "neighbor\n",
      "neighbor_i\n",
      "hood\n",
      "hood_no\n",
      "acres\n",
      "sqmiles\n",
      "dpwdiv\n",
      "unique_id\n",
      "sectors\n",
      "shape_le_1\n",
      "shape_ar_1\n",
      "page_number\n",
      "plannerassign\n",
      "globalid\n",
      "created_user\n",
      "created_date\n",
      "last_edited_user\n",
      "last_edited_date\n",
      "temp\n",
      "shape_area\n",
      "shape_length\n"
     ]
    }
   ],
   "source": [
    "for col in biggest_hood.columns:\n",
    "    print(col)"
   ]
  },
  {
   "cell_type": "markdown",
   "metadata": {},
   "source": [
    "The data we are interested in is the \"hood\" and the \"acres\" colums. So lets filter these out, and look at the first 5 entries."
   ]
  },
  {
   "cell_type": "code",
   "execution_count": 17,
   "metadata": {},
   "outputs": [
    {
     "data": {
      "text/html": [
       "<div>\n",
       "<style scoped>\n",
       "    .dataframe tbody tr th:only-of-type {\n",
       "        vertical-align: middle;\n",
       "    }\n",
       "\n",
       "    .dataframe tbody tr th {\n",
       "        vertical-align: top;\n",
       "    }\n",
       "\n",
       "    .dataframe thead th {\n",
       "        text-align: right;\n",
       "    }\n",
       "</style>\n",
       "<table border=\"1\" class=\"dataframe\">\n",
       "  <thead>\n",
       "    <tr style=\"text-align: right;\">\n",
       "      <th></th>\n",
       "      <th>hood</th>\n",
       "      <th>acres</th>\n",
       "    </tr>\n",
       "  </thead>\n",
       "  <tbody>\n",
       "    <tr>\n",
       "      <th>0</th>\n",
       "      <td>Point Breeze North</td>\n",
       "      <td>183.781</td>\n",
       "    </tr>\n",
       "    <tr>\n",
       "      <th>1</th>\n",
       "      <td>Squirrel Hill North</td>\n",
       "      <td>785.948</td>\n",
       "    </tr>\n",
       "    <tr>\n",
       "      <th>2</th>\n",
       "      <td>Garfield</td>\n",
       "      <td>294.077</td>\n",
       "    </tr>\n",
       "    <tr>\n",
       "      <th>3</th>\n",
       "      <td>Bedford Dwellings</td>\n",
       "      <td>115.252</td>\n",
       "    </tr>\n",
       "    <tr>\n",
       "      <th>4</th>\n",
       "      <td>Knoxville</td>\n",
       "      <td>193.982</td>\n",
       "    </tr>\n",
       "  </tbody>\n",
       "</table>\n",
       "</div>"
      ],
      "text/plain": [
       "                  hood    acres\n",
       "0   Point Breeze North  183.781\n",
       "1  Squirrel Hill North  785.948\n",
       "2             Garfield  294.077\n",
       "3    Bedford Dwellings  115.252\n",
       "4            Knoxville  193.982"
      ]
     },
     "execution_count": 17,
     "metadata": {},
     "output_type": "execute_result"
    }
   ],
   "source": [
    "biggest_hood.loc[:,[\"hood\",\"acres\"]].head(5)"
   ]
  },
  {
   "cell_type": "markdown",
   "metadata": {},
   "source": [
    "We only need the top 5, so let's sort it, descending, then slice the rest of the rows out."
   ]
  },
  {
   "cell_type": "code",
   "execution_count": 6,
   "metadata": {},
   "outputs": [
    {
     "data": {
      "text/html": [
       "<div>\n",
       "<style scoped>\n",
       "    .dataframe tbody tr th:only-of-type {\n",
       "        vertical-align: middle;\n",
       "    }\n",
       "\n",
       "    .dataframe tbody tr th {\n",
       "        vertical-align: top;\n",
       "    }\n",
       "\n",
       "    .dataframe thead th {\n",
       "        text-align: right;\n",
       "    }\n",
       "</style>\n",
       "<table border=\"1\" class=\"dataframe\">\n",
       "  <thead>\n",
       "    <tr style=\"text-align: right;\">\n",
       "      <th></th>\n",
       "      <th>hood</th>\n",
       "      <th>acres</th>\n",
       "    </tr>\n",
       "  </thead>\n",
       "  <tbody>\n",
       "    <tr>\n",
       "      <th>80</th>\n",
       "      <td>Squirrel Hill South</td>\n",
       "      <td>1717.485</td>\n",
       "    </tr>\n",
       "    <tr>\n",
       "      <th>24</th>\n",
       "      <td>Brookline</td>\n",
       "      <td>1338.669</td>\n",
       "    </tr>\n",
       "    <tr>\n",
       "      <th>25</th>\n",
       "      <td>Hays</td>\n",
       "      <td>1125.478</td>\n",
       "    </tr>\n",
       "    <tr>\n",
       "      <th>51</th>\n",
       "      <td>Carrick</td>\n",
       "      <td>1075.670</td>\n",
       "    </tr>\n",
       "    <tr>\n",
       "      <th>60</th>\n",
       "      <td>Hazelwood</td>\n",
       "      <td>1017.805</td>\n",
       "    </tr>\n",
       "  </tbody>\n",
       "</table>\n",
       "</div>"
      ],
      "text/plain": [
       "                   hood     acres\n",
       "80  Squirrel Hill South  1717.485\n",
       "24            Brookline  1338.669\n",
       "25                 Hays  1125.478\n",
       "51              Carrick  1075.670\n",
       "60            Hazelwood  1017.805"
      ]
     },
     "execution_count": 6,
     "metadata": {},
     "output_type": "execute_result"
    }
   ],
   "source": [
    "biggest_hood.loc[:,[\"hood\",\"acres\"]].sort_values(by=[\"acres\"], ascending=False).head(5)"
   ]
  },
  {
   "cell_type": "markdown",
   "metadata": {},
   "source": [
    "Save the results into a mask, so we can visualize it better."
   ]
  },
  {
   "cell_type": "code",
   "execution_count": 17,
   "metadata": {},
   "outputs": [
    {
     "data": {
      "text/html": [
       "<div>\n",
       "<style scoped>\n",
       "    .dataframe tbody tr th:only-of-type {\n",
       "        vertical-align: middle;\n",
       "    }\n",
       "\n",
       "    .dataframe tbody tr th {\n",
       "        vertical-align: top;\n",
       "    }\n",
       "\n",
       "    .dataframe thead th {\n",
       "        text-align: right;\n",
       "    }\n",
       "</style>\n",
       "<table border=\"1\" class=\"dataframe\">\n",
       "  <thead>\n",
       "    <tr style=\"text-align: right;\">\n",
       "      <th></th>\n",
       "      <th>hood</th>\n",
       "      <th>acres</th>\n",
       "    </tr>\n",
       "  </thead>\n",
       "  <tbody>\n",
       "    <tr>\n",
       "      <th>80</th>\n",
       "      <td>Squirrel Hill South</td>\n",
       "      <td>1717.485</td>\n",
       "    </tr>\n",
       "    <tr>\n",
       "      <th>24</th>\n",
       "      <td>Brookline</td>\n",
       "      <td>1338.669</td>\n",
       "    </tr>\n",
       "    <tr>\n",
       "      <th>25</th>\n",
       "      <td>Hays</td>\n",
       "      <td>1125.478</td>\n",
       "    </tr>\n",
       "    <tr>\n",
       "      <th>51</th>\n",
       "      <td>Carrick</td>\n",
       "      <td>1075.670</td>\n",
       "    </tr>\n",
       "    <tr>\n",
       "      <th>60</th>\n",
       "      <td>Hazelwood</td>\n",
       "      <td>1017.805</td>\n",
       "    </tr>\n",
       "  </tbody>\n",
       "</table>\n",
       "</div>"
      ],
      "text/plain": [
       "                   hood     acres\n",
       "80  Squirrel Hill South  1717.485\n",
       "24            Brookline  1338.669\n",
       "25                 Hays  1125.478\n",
       "51              Carrick  1075.670\n",
       "60            Hazelwood  1017.805"
      ]
     },
     "execution_count": 17,
     "metadata": {},
     "output_type": "execute_result"
    }
   ],
   "source": [
    "hood_acres=hoods.loc[:,[\"hood\",\"acres\"]].sort_values(by=[\"acres\"], ascending=False).head(5)\n",
    "hood_acres"
   ]
  },
  {
   "cell_type": "markdown",
   "metadata": {},
   "source": [
    "A bar chart will be perfect for this."
   ]
  },
  {
   "cell_type": "code",
   "execution_count": 61,
   "metadata": {},
   "outputs": [
    {
     "data": {
      "text/plain": [
       "<matplotlib.axes._subplots.AxesSubplot at 0x7fbebf807f10>"
      ]
     },
     "execution_count": 61,
     "metadata": {},
     "output_type": "execute_result"
    },
    {
     "data": {
      "image/png": "[encoded data removed]",
      "text/plain": [
       "<Figure size 432x288 with 1 Axes>"
      ]
     },
     "metadata": {
      "needs_background": "light"
     },
     "output_type": "display_data"
    }
   ],
   "source": [
    "hood_acres.plot(kind='bar')"
   ]
  },
  {
   "cell_type": "markdown",
   "metadata": {},
   "source": [
    "After a little tailoring, we have a pretty chart!"
   ]
  },
  {
   "cell_type": "code",
   "execution_count": 20,
   "metadata": {},
   "outputs": [
    {
     "data": {
      "text/plain": [
       "Text(0, 0.5, 'Size in acres')"
      ]
     },
     "execution_count": 20,
     "metadata": {},
     "output_type": "execute_result"
    },
    {
     "data": {
      "image/png": "[encoded data removed]",
      "text/plain": [
       "<Figure size 432x288 with 1 Axes>"
      ]
     },
     "metadata": {
      "needs_background": "light"
     },
     "output_type": "display_data"
    }
   ],
   "source": [
    "plotdata =pd.DataFrame({\"acres\":[1717.485, 1338.669, 1125.478, 1075.670, 1017.805]}, index=[\"Squirrel Hill S.\", \"Brookline\", \"Hays\", \"Carrick\", \"Hazelwood\"])\n",
    "plotdata.plot.bar(rot=5)\n",
    "plt.title(\"Biggest Neighborhood\")\n",
    "plt.xlabel(\"Neighborhoods\")\n",
    "plt.ylabel(\"Size in acres\")"
   ]
  },
  {
   "cell_type": "markdown",
   "metadata": {},
   "source": [
    "Next, let's repeat the same steps to find the most populous neighbourhood. "
   ]
  },
  {
   "cell_type": "code",
   "execution_count": 9,
   "metadata": {},
   "outputs": [
    {
     "data": {
      "text/html": [
       "<div>\n",
       "<style scoped>\n",
       "    .dataframe tbody tr th:only-of-type {\n",
       "        vertical-align: middle;\n",
       "    }\n",
       "\n",
       "    .dataframe tbody tr th {\n",
       "        vertical-align: top;\n",
       "    }\n",
       "\n",
       "    .dataframe thead th {\n",
       "        text-align: right;\n",
       "    }\n",
       "</style>\n",
       "<table border=\"1\" class=\"dataframe\">\n",
       "  <thead>\n",
       "    <tr style=\"text-align: right;\">\n",
       "      <th></th>\n",
       "      <th>Neighborhood</th>\n",
       "      <th>Sector #</th>\n",
       "      <th>Population (2010)</th>\n",
       "      <th>Miles of Major Roads</th>\n",
       "      <th>Total Street Miles</th>\n",
       "      <th>Street Density (st. mi/area sq. mi)</th>\n",
       "      <th># Sets of Steps</th>\n",
       "      <th># Step Treads</th>\n",
       "      <th>Res. Permit Parking Area(s)</th>\n",
       "      <th>Total Working Pop. (Age 16+) (2010)</th>\n",
       "      <th>Commute to Work: Drive Alone (2010)</th>\n",
       "      <th>Commute to Work: Carpool/Vanpool (2010)</th>\n",
       "      <th>Commute to Work: Public Transportation (2010)</th>\n",
       "      <th>Commute to Work: Taxi (2010)</th>\n",
       "      <th>Commute to Work: Motorcycle (2010)</th>\n",
       "      <th>Commute to Work: Bicycle (2010)</th>\n",
       "      <th>Commute to Work: Walk (2010)</th>\n",
       "      <th>Commute to Work: Other (2010)</th>\n",
       "      <th>Work at Home (2010)</th>\n",
       "    </tr>\n",
       "  </thead>\n",
       "  <tbody>\n",
       "    <tr>\n",
       "      <th>0</th>\n",
       "      <td>Allegheny Center</td>\n",
       "      <td>3</td>\n",
       "      <td>933</td>\n",
       "      <td>2.232425</td>\n",
       "      <td>4.141467</td>\n",
       "      <td>19.721273</td>\n",
       "      <td>0</td>\n",
       "      <td>0</td>\n",
       "      <td>None</td>\n",
       "      <td>386</td>\n",
       "      <td>0.277202</td>\n",
       "      <td>0.098446</td>\n",
       "      <td>0.168394</td>\n",
       "      <td>0.000000</td>\n",
       "      <td>0.000000</td>\n",
       "      <td>0.0</td>\n",
       "      <td>0.437824</td>\n",
       "      <td>0.000000</td>\n",
       "      <td>0.018135</td>\n",
       "    </tr>\n",
       "    <tr>\n",
       "      <th>1</th>\n",
       "      <td>Allegheny West</td>\n",
       "      <td>3</td>\n",
       "      <td>462</td>\n",
       "      <td>1.471627</td>\n",
       "      <td>4.870843</td>\n",
       "      <td>34.544983</td>\n",
       "      <td>0</td>\n",
       "      <td>0</td>\n",
       "      <td>G</td>\n",
       "      <td>151</td>\n",
       "      <td>0.231788</td>\n",
       "      <td>0.205298</td>\n",
       "      <td>0.158940</td>\n",
       "      <td>0.145695</td>\n",
       "      <td>0.000000</td>\n",
       "      <td>0.0</td>\n",
       "      <td>0.258278</td>\n",
       "      <td>0.000000</td>\n",
       "      <td>0.000000</td>\n",
       "    </tr>\n",
       "    <tr>\n",
       "      <th>2</th>\n",
       "      <td>Allentown</td>\n",
       "      <td>6</td>\n",
       "      <td>2500</td>\n",
       "      <td>1.648451</td>\n",
       "      <td>12.325689</td>\n",
       "      <td>41.781996</td>\n",
       "      <td>12</td>\n",
       "      <td>474</td>\n",
       "      <td>None</td>\n",
       "      <td>824</td>\n",
       "      <td>0.469660</td>\n",
       "      <td>0.109223</td>\n",
       "      <td>0.379854</td>\n",
       "      <td>0.000000</td>\n",
       "      <td>0.008495</td>\n",
       "      <td>0.0</td>\n",
       "      <td>0.000000</td>\n",
       "      <td>0.014563</td>\n",
       "      <td>0.018204</td>\n",
       "    </tr>\n",
       "    <tr>\n",
       "      <th>3</th>\n",
       "      <td>Arlington</td>\n",
       "      <td>7</td>\n",
       "      <td>1869</td>\n",
       "      <td>0.861571</td>\n",
       "      <td>10.734269</td>\n",
       "      <td>22.838871</td>\n",
       "      <td>13</td>\n",
       "      <td>428</td>\n",
       "      <td>None</td>\n",
       "      <td>673</td>\n",
       "      <td>0.739970</td>\n",
       "      <td>0.072808</td>\n",
       "      <td>0.135215</td>\n",
       "      <td>0.000000</td>\n",
       "      <td>0.000000</td>\n",
       "      <td>0.0</td>\n",
       "      <td>0.019316</td>\n",
       "      <td>0.008915</td>\n",
       "      <td>0.023774</td>\n",
       "    </tr>\n",
       "    <tr>\n",
       "      <th>4</th>\n",
       "      <td>Arlington Heights</td>\n",
       "      <td>7</td>\n",
       "      <td>244</td>\n",
       "      <td>0.000000</td>\n",
       "      <td>1.086460</td>\n",
       "      <td>8.230760</td>\n",
       "      <td>0</td>\n",
       "      <td>0</td>\n",
       "      <td>None</td>\n",
       "      <td>72</td>\n",
       "      <td>0.111111</td>\n",
       "      <td>0.000000</td>\n",
       "      <td>0.888889</td>\n",
       "      <td>0.000000</td>\n",
       "      <td>0.000000</td>\n",
       "      <td>0.0</td>\n",
       "      <td>0.000000</td>\n",
       "      <td>0.000000</td>\n",
       "      <td>0.000000</td>\n",
       "    </tr>\n",
       "  </tbody>\n",
       "</table>\n",
       "</div>"
      ],
      "text/plain": [
       "        Neighborhood  Sector #  Population (2010)  Miles of Major Roads  \\\n",
       "0   Allegheny Center         3                933              2.232425   \n",
       "1     Allegheny West         3                462              1.471627   \n",
       "2          Allentown         6               2500              1.648451   \n",
       "3          Arlington         7               1869              0.861571   \n",
       "4  Arlington Heights         7                244              0.000000   \n",
       "\n",
       "   Total Street Miles  Street Density (st. mi/area sq. mi)  # Sets of Steps  \\\n",
       "0            4.141467                            19.721273                0   \n",
       "1            4.870843                            34.544983                0   \n",
       "2           12.325689                            41.781996               12   \n",
       "3           10.734269                            22.838871               13   \n",
       "4            1.086460                             8.230760                0   \n",
       "\n",
       "   # Step Treads Res. Permit Parking Area(s)  \\\n",
       "0              0                        None   \n",
       "1              0                           G   \n",
       "2            474                        None   \n",
       "3            428                        None   \n",
       "4              0                        None   \n",
       "\n",
       "   Total Working Pop. (Age 16+) (2010)  Commute to Work: Drive Alone (2010)  \\\n",
       "0                                  386                             0.277202   \n",
       "1                                  151                             0.231788   \n",
       "2                                  824                             0.469660   \n",
       "3                                  673                             0.739970   \n",
       "4                                   72                             0.111111   \n",
       "\n",
       "   Commute to Work: Carpool/Vanpool (2010)  \\\n",
       "0                                 0.098446   \n",
       "1                                 0.205298   \n",
       "2                                 0.109223   \n",
       "3                                 0.072808   \n",
       "4                                 0.000000   \n",
       "\n",
       "   Commute to Work: Public Transportation (2010)  \\\n",
       "0                                       0.168394   \n",
       "1                                       0.158940   \n",
       "2                                       0.379854   \n",
       "3                                       0.135215   \n",
       "4                                       0.888889   \n",
       "\n",
       "   Commute to Work: Taxi (2010)  Commute to Work: Motorcycle (2010)  \\\n",
       "0                      0.000000                            0.000000   \n",
       "1                      0.145695                            0.000000   \n",
       "2                      0.000000                            0.008495   \n",
       "3                      0.000000                            0.000000   \n",
       "4                      0.000000                            0.000000   \n",
       "\n",
       "   Commute to Work: Bicycle (2010)  Commute to Work: Walk (2010)  \\\n",
       "0                              0.0                      0.437824   \n",
       "1                              0.0                      0.258278   \n",
       "2                              0.0                      0.000000   \n",
       "3                              0.0                      0.019316   \n",
       "4                              0.0                      0.000000   \n",
       "\n",
       "   Commute to Work: Other (2010)  Work at Home (2010)  \n",
       "0                       0.000000             0.018135  \n",
       "1                       0.000000             0.000000  \n",
       "2                       0.014563             0.018204  \n",
       "3                       0.008915             0.023774  \n",
       "4                       0.000000             0.000000  "
      ]
     },
     "execution_count": 9,
     "metadata": {},
     "output_type": "execute_result"
    }
   ],
   "source": [
    "populous_hood = pd.read_csv(\"census.csv\")\n",
    "populous_hood.head(5)"
   ]
  },
  {
   "cell_type": "markdown",
   "metadata": {},
   "source": [
    "Let's look at the columns, this time, the easier way."
   ]
  },
  {
   "cell_type": "code",
   "execution_count": 10,
   "metadata": {},
   "outputs": [
    {
     "name": "stdout",
     "output_type": "stream",
     "text": [
      "<class 'pandas.core.frame.DataFrame'>\n",
      "RangeIndex: 90 entries, 0 to 89\n",
      "Data columns (total 19 columns):\n",
      " #   Column                                         Non-Null Count  Dtype  \n",
      "---  ------                                         --------------  -----  \n",
      " 0   Neighborhood                                   90 non-null     object \n",
      " 1   Sector #                                       90 non-null     int64  \n",
      " 2   Population (2010)                              90 non-null     int64  \n",
      " 3   Miles of Major Roads                           90 non-null     float64\n",
      " 4   Total Street Miles                             90 non-null     float64\n",
      " 5   Street Density (st. mi/area sq. mi)            90 non-null     float64\n",
      " 6   # Sets of Steps                                90 non-null     int64  \n",
      " 7   # Step Treads                                  90 non-null     int64  \n",
      " 8   Res. Permit Parking Area(s)                    90 non-null     object \n",
      " 9   Total Working Pop. (Age 16+) (2010)            90 non-null     int64  \n",
      " 10  Commute to Work: Drive Alone (2010)            89 non-null     float64\n",
      " 11  Commute to Work: Carpool/Vanpool (2010)        89 non-null     float64\n",
      " 12  Commute to Work: Public Transportation (2010)  89 non-null     float64\n",
      " 13  Commute to Work: Taxi (2010)                   89 non-null     float64\n",
      " 14  Commute to Work: Motorcycle (2010)             89 non-null     float64\n",
      " 15  Commute to Work: Bicycle (2010)                89 non-null     float64\n",
      " 16  Commute to Work: Walk (2010)                   89 non-null     float64\n",
      " 17  Commute to Work: Other (2010)                  89 non-null     float64\n",
      " 18  Work at Home (2010)                            89 non-null     float64\n",
      "dtypes: float64(12), int64(5), object(2)\n",
      "memory usage: 13.5+ KB\n"
     ]
    }
   ],
   "source": [
    "populous_hood.info()"
   ]
  },
  {
   "cell_type": "markdown",
   "metadata": {},
   "source": [
    "The data we are interested in is the \"Neighborhood\" and the \"Population (2010)\" colums. So lets filter these out, and look at the first 5 entries."
   ]
  },
  {
   "cell_type": "code",
   "execution_count": 55,
   "metadata": {},
   "outputs": [
    {
     "data": {
      "text/html": [
       "<div>\n",
       "<style scoped>\n",
       "    .dataframe tbody tr th:only-of-type {\n",
       "        vertical-align: middle;\n",
       "    }\n",
       "\n",
       "    .dataframe tbody tr th {\n",
       "        vertical-align: top;\n",
       "    }\n",
       "\n",
       "    .dataframe thead th {\n",
       "        text-align: right;\n",
       "    }\n",
       "</style>\n",
       "<table border=\"1\" class=\"dataframe\">\n",
       "  <thead>\n",
       "    <tr style=\"text-align: right;\">\n",
       "      <th></th>\n",
       "      <th>Neighborhood</th>\n",
       "      <th>Population (2010)</th>\n",
       "    </tr>\n",
       "  </thead>\n",
       "  <tbody>\n",
       "    <tr>\n",
       "      <th>0</th>\n",
       "      <td>Allegheny Center</td>\n",
       "      <td>933</td>\n",
       "    </tr>\n",
       "    <tr>\n",
       "      <th>1</th>\n",
       "      <td>Allegheny West</td>\n",
       "      <td>462</td>\n",
       "    </tr>\n",
       "    <tr>\n",
       "      <th>2</th>\n",
       "      <td>Allentown</td>\n",
       "      <td>2500</td>\n",
       "    </tr>\n",
       "    <tr>\n",
       "      <th>3</th>\n",
       "      <td>Arlington</td>\n",
       "      <td>1869</td>\n",
       "    </tr>\n",
       "    <tr>\n",
       "      <th>4</th>\n",
       "      <td>Arlington Heights</td>\n",
       "      <td>244</td>\n",
       "    </tr>\n",
       "  </tbody>\n",
       "</table>\n",
       "</div>"
      ],
      "text/plain": [
       "        Neighborhood  Population (2010)\n",
       "0   Allegheny Center                933\n",
       "1     Allegheny West                462\n",
       "2          Allentown               2500\n",
       "3          Arlington               1869\n",
       "4  Arlington Heights                244"
      ]
     },
     "execution_count": 55,
     "metadata": {},
     "output_type": "execute_result"
    }
   ],
   "source": [
    "populous_hood.loc[:,[\"Neighborhood\",\"Population (2010)\"]].head(5)"
   ]
  },
  {
   "cell_type": "markdown",
   "metadata": {},
   "source": [
    "MAsk it, sort it, slice it."
   ]
  },
  {
   "cell_type": "code",
   "execution_count": 11,
   "metadata": {},
   "outputs": [
    {
     "data": {
      "text/html": [
       "<div>\n",
       "<style scoped>\n",
       "    .dataframe tbody tr th:only-of-type {\n",
       "        vertical-align: middle;\n",
       "    }\n",
       "\n",
       "    .dataframe tbody tr th {\n",
       "        vertical-align: top;\n",
       "    }\n",
       "\n",
       "    .dataframe thead th {\n",
       "        text-align: right;\n",
       "    }\n",
       "</style>\n",
       "<table border=\"1\" class=\"dataframe\">\n",
       "  <thead>\n",
       "    <tr style=\"text-align: right;\">\n",
       "      <th></th>\n",
       "      <th>Neighborhood</th>\n",
       "      <th>Population (2010)</th>\n",
       "    </tr>\n",
       "  </thead>\n",
       "  <tbody>\n",
       "    <tr>\n",
       "      <th>76</th>\n",
       "      <td>Squirrel Hill South</td>\n",
       "      <td>15110</td>\n",
       "    </tr>\n",
       "    <tr>\n",
       "      <th>67</th>\n",
       "      <td>Shadyside</td>\n",
       "      <td>13915</td>\n",
       "    </tr>\n",
       "    <tr>\n",
       "      <th>13</th>\n",
       "      <td>Brookline</td>\n",
       "      <td>13214</td>\n",
       "    </tr>\n",
       "    <tr>\n",
       "      <th>75</th>\n",
       "      <td>Squirrel Hill North</td>\n",
       "      <td>11363</td>\n",
       "    </tr>\n",
       "    <tr>\n",
       "      <th>55</th>\n",
       "      <td>North Oakland</td>\n",
       "      <td>10551</td>\n",
       "    </tr>\n",
       "  </tbody>\n",
       "</table>\n",
       "</div>"
      ],
      "text/plain": [
       "           Neighborhood  Population (2010)\n",
       "76  Squirrel Hill South              15110\n",
       "67            Shadyside              13915\n",
       "13            Brookline              13214\n",
       "75  Squirrel Hill North              11363\n",
       "55        North Oakland              10551"
      ]
     },
     "execution_count": 11,
     "metadata": {},
     "output_type": "execute_result"
    }
   ],
   "source": [
    "most_populous_hood=populous_hood.loc[:,[\"Neighborhood\",\"Population (2010)\"]].sort_values(by=[\"Population (2010)\"], ascending=False).head(5)\n",
    "most_populous_hood"
   ]
  },
  {
   "cell_type": "markdown",
   "metadata": {},
   "source": [
    "Visualize it!"
   ]
  },
  {
   "cell_type": "code",
   "execution_count": 12,
   "metadata": {},
   "outputs": [
    {
     "data": {
      "text/plain": [
       "<matplotlib.axes._subplots.AxesSubplot at 0x7f5645e7ea00>"
      ]
     },
     "execution_count": 12,
     "metadata": {},
     "output_type": "execute_result"
    },
    {
     "data": {
      "image/png": "[encoded data removed]",
      "text/plain": [
       "<Figure size 432x288 with 1 Axes>"
      ]
     },
     "metadata": {
      "needs_background": "light"
     },
     "output_type": "display_data"
    }
   ],
   "source": [
    "most_populous_hood.plot(kind='bar')"
   ]
  },
  {
   "cell_type": "markdown",
   "metadata": {},
   "source": [
    "Make it pretty."
   ]
  },
  {
   "cell_type": "code",
   "execution_count": 14,
   "metadata": {},
   "outputs": [
    {
     "data": {
      "text/plain": [
       "Text(0, 0.5, 'Population')"
      ]
     },
     "execution_count": 14,
     "metadata": {},
     "output_type": "execute_result"
    },
    {
     "data": {
      "image/png": "[encoded data removed]",
      "text/plain": [
       "<Figure size 432x288 with 1 Axes>"
      ]
     },
     "metadata": {
      "needs_background": "light"
     },
     "output_type": "display_data"
    }
   ],
   "source": [
    "plotdata2 =pd.DataFrame({\"Population\":[15110,13915,13214,11363,10551]}, index=[\"Squirrel Hill S.\", \"Shadyside\", \"Brookline\", \"Squirrel Hill N.\", \"North Oakland\"])\n",
    "plotdata2.plot.bar(rot=5)\n",
    "plt.title(\"Most Populous Neighborhood\")\n",
    "plt.xlabel(\"Neighborhoods\")\n",
    "plt.ylabel(\"Population\")"
   ]
  },
  {
   "cell_type": "markdown",
   "metadata": {},
   "source": [
    "Let'shave a look at the results. The biggest neighborhood is:"
   ]
  },
  {
   "cell_type": "code",
   "execution_count": 15,
   "metadata": {},
   "outputs": [
    {
     "data": {
      "text/html": [
       "<div>\n",
       "<style scoped>\n",
       "    .dataframe tbody tr th:only-of-type {\n",
       "        vertical-align: middle;\n",
       "    }\n",
       "\n",
       "    .dataframe tbody tr th {\n",
       "        vertical-align: top;\n",
       "    }\n",
       "\n",
       "    .dataframe thead th {\n",
       "        text-align: right;\n",
       "    }\n",
       "</style>\n",
       "<table border=\"1\" class=\"dataframe\">\n",
       "  <thead>\n",
       "    <tr style=\"text-align: right;\">\n",
       "      <th></th>\n",
       "      <th>acres</th>\n",
       "    </tr>\n",
       "  </thead>\n",
       "  <tbody>\n",
       "    <tr>\n",
       "      <th>Squirrel Hill S.</th>\n",
       "      <td>1717.485</td>\n",
       "    </tr>\n",
       "    <tr>\n",
       "      <th>Brookline</th>\n",
       "      <td>1338.669</td>\n",
       "    </tr>\n",
       "    <tr>\n",
       "      <th>Hays</th>\n",
       "      <td>1125.478</td>\n",
       "    </tr>\n",
       "    <tr>\n",
       "      <th>Carrick</th>\n",
       "      <td>1075.670</td>\n",
       "    </tr>\n",
       "    <tr>\n",
       "      <th>Hazelwood</th>\n",
       "      <td>1017.805</td>\n",
       "    </tr>\n",
       "  </tbody>\n",
       "</table>\n",
       "</div>"
      ],
      "text/plain": [
       "                     acres\n",
       "Squirrel Hill S.  1717.485\n",
       "Brookline         1338.669\n",
       "Hays              1125.478\n",
       "Carrick           1075.670\n",
       "Hazelwood         1017.805"
      ]
     },
     "execution_count": 15,
     "metadata": {},
     "output_type": "execute_result"
    }
   ],
   "source": [
    "plotdata"
   ]
  },
  {
   "cell_type": "markdown",
   "metadata": {},
   "source": [
    "The most populous neighborhood is:"
   ]
  },
  {
   "cell_type": "code",
   "execution_count": 16,
   "metadata": {},
   "outputs": [
    {
     "data": {
      "text/html": [
       "<div>\n",
       "<style scoped>\n",
       "    .dataframe tbody tr th:only-of-type {\n",
       "        vertical-align: middle;\n",
       "    }\n",
       "\n",
       "    .dataframe tbody tr th {\n",
       "        vertical-align: top;\n",
       "    }\n",
       "\n",
       "    .dataframe thead th {\n",
       "        text-align: right;\n",
       "    }\n",
       "</style>\n",
       "<table border=\"1\" class=\"dataframe\">\n",
       "  <thead>\n",
       "    <tr style=\"text-align: right;\">\n",
       "      <th></th>\n",
       "      <th>Population</th>\n",
       "    </tr>\n",
       "  </thead>\n",
       "  <tbody>\n",
       "    <tr>\n",
       "      <th>Squirrel Hill S.</th>\n",
       "      <td>15110</td>\n",
       "    </tr>\n",
       "    <tr>\n",
       "      <th>Shadyside</th>\n",
       "      <td>13915</td>\n",
       "    </tr>\n",
       "    <tr>\n",
       "      <th>Brookline</th>\n",
       "      <td>13214</td>\n",
       "    </tr>\n",
       "    <tr>\n",
       "      <th>Squirrel Hill N.</th>\n",
       "      <td>11363</td>\n",
       "    </tr>\n",
       "    <tr>\n",
       "      <th>North Oakland</th>\n",
       "      <td>10551</td>\n",
       "    </tr>\n",
       "  </tbody>\n",
       "</table>\n",
       "</div>"
      ],
      "text/plain": [
       "                  Population\n",
       "Squirrel Hill S.       15110\n",
       "Shadyside              13915\n",
       "Brookline              13214\n",
       "Squirrel Hill N.       11363\n",
       "North Oakland          10551"
      ]
     },
     "execution_count": 16,
     "metadata": {},
     "output_type": "execute_result"
    }
   ],
   "source": [
    "plotdata2"
   ]
  },
  {
   "cell_type": "markdown",
   "metadata": {},
   "source": [
    "#### Conclusion:\n",
    "We can see that the biggest and the most populous neighborhood is Squirrel Hill, so far, the best palce for a Pittsburg pigeon to live in.\n",
    "I was expectin squirrel hill to be the biggest, but i did not expect it to be the msot populous. I tought it will be Shadyside or Downtown."
   ]
  },
  {
   "cell_type": "markdown",
   "metadata": {},
   "source": [
    "## Metric 2: The average number of cars in a neighborhood\n",
    "#### Jamie Affour - jaa230"
   ]
  },
  {
   "cell_type": "markdown",
   "metadata": {},
   "source": [
    "![pigeon](pigeon.jpeg)"
   ]
  },
  {
   "cell_type": "markdown",
   "metadata": {},
   "source": [
    "To determine the neighborhood with the hoghest average number of cars, i will use the following dataset:\n",
    "* City of Pittsburgh Traffic Count\n",
    "\n",
    "First, let's load the tools we need, and data file Then, lets look at the first line just to make sure it loads."
   ]
  },
  {
   "cell_type": "code",
   "execution_count": 23,
   "metadata": {},
   "outputs": [],
   "source": [
    "import pandas as pd\n",
    "import geopandas as gpd\n",
    "import matplotlib.pyplot as plt\n",
    "%matplotlib inline"
   ]
  },
  {
   "cell_type": "markdown",
   "metadata": {},
   "source": [
    "Let's read the data file, and group the data byt neighborhood.Let's look at the first 5 entry to amke sure it loads."
   ]
  },
  {
   "cell_type": "code",
   "execution_count": 26,
   "metadata": {},
   "outputs": [
    {
     "data": {
      "text/html": [
       "<div>\n",
       "<style scoped>\n",
       "    .dataframe tbody tr th:only-of-type {\n",
       "        vertical-align: middle;\n",
       "    }\n",
       "\n",
       "    .dataframe tbody tr th {\n",
       "        vertical-align: top;\n",
       "    }\n",
       "\n",
       "    .dataframe thead th {\n",
       "        text-align: right;\n",
       "    }\n",
       "</style>\n",
       "<table border=\"1\" class=\"dataframe\">\n",
       "  <thead>\n",
       "    <tr style=\"text-align: right;\">\n",
       "      <th></th>\n",
       "      <th>id</th>\n",
       "      <th>device_id</th>\n",
       "      <th>record_oid</th>\n",
       "      <th>average_daily_car_traffic</th>\n",
       "      <th>average_daily_bike_traffic</th>\n",
       "      <th>speed_limit</th>\n",
       "      <th>max_speed</th>\n",
       "      <th>median_speed</th>\n",
       "      <th>percent_over_limit</th>\n",
       "      <th>speed85_percent</th>\n",
       "      <th>speed95_percent</th>\n",
       "      <th>longitude</th>\n",
       "      <th>latitude</th>\n",
       "      <th>council_district</th>\n",
       "      <th>ward</th>\n",
       "      <th>tract</th>\n",
       "      <th>public_works_division</th>\n",
       "      <th>pli_division</th>\n",
       "      <th>police_zone</th>\n",
       "    </tr>\n",
       "    <tr>\n",
       "      <th>neighborhood</th>\n",
       "      <th></th>\n",
       "      <th></th>\n",
       "      <th></th>\n",
       "      <th></th>\n",
       "      <th></th>\n",
       "      <th></th>\n",
       "      <th></th>\n",
       "      <th></th>\n",
       "      <th></th>\n",
       "      <th></th>\n",
       "      <th></th>\n",
       "      <th></th>\n",
       "      <th></th>\n",
       "      <th></th>\n",
       "      <th></th>\n",
       "      <th></th>\n",
       "      <th></th>\n",
       "      <th></th>\n",
       "      <th></th>\n",
       "    </tr>\n",
       "  </thead>\n",
       "  <tbody>\n",
       "    <tr>\n",
       "      <th>Allegheny Center</th>\n",
       "      <td>462461649</td>\n",
       "      <td>78</td>\n",
       "      <td>3.743645e+08</td>\n",
       "      <td>2386.0</td>\n",
       "      <td>0.0</td>\n",
       "      <td>25.0</td>\n",
       "      <td>0.0</td>\n",
       "      <td>27.0</td>\n",
       "      <td>65.0</td>\n",
       "      <td>32.0</td>\n",
       "      <td>36.0</td>\n",
       "      <td>-80.009269</td>\n",
       "      <td>40.451106</td>\n",
       "      <td>1.0</td>\n",
       "      <td>22.0</td>\n",
       "      <td>42003562700</td>\n",
       "      <td>1.0</td>\n",
       "      <td>22.0</td>\n",
       "      <td>1.0</td>\n",
       "    </tr>\n",
       "    <tr>\n",
       "      <th>Allegheny West</th>\n",
       "      <td>2137013195</td>\n",
       "      <td>221</td>\n",
       "      <td>2.090544e+09</td>\n",
       "      <td>477.0</td>\n",
       "      <td>0.0</td>\n",
       "      <td>25.0</td>\n",
       "      <td>0.0</td>\n",
       "      <td>20.0</td>\n",
       "      <td>11.0</td>\n",
       "      <td>24.0</td>\n",
       "      <td>28.0</td>\n",
       "      <td>-80.016819</td>\n",
       "      <td>40.452706</td>\n",
       "      <td>1.0</td>\n",
       "      <td>22.0</td>\n",
       "      <td>42003562700</td>\n",
       "      <td>1.0</td>\n",
       "      <td>22.0</td>\n",
       "      <td>1.0</td>\n",
       "    </tr>\n",
       "    <tr>\n",
       "      <th>Arlington</th>\n",
       "      <td>3968057830</td>\n",
       "      <td>725</td>\n",
       "      <td>2.836514e+09</td>\n",
       "      <td>4571.0</td>\n",
       "      <td>0.0</td>\n",
       "      <td>50.0</td>\n",
       "      <td>0.0</td>\n",
       "      <td>53.0</td>\n",
       "      <td>123.0</td>\n",
       "      <td>62.0</td>\n",
       "      <td>69.0</td>\n",
       "      <td>-239.927663</td>\n",
       "      <td>121.252135</td>\n",
       "      <td>9.0</td>\n",
       "      <td>48.0</td>\n",
       "      <td>126010284000</td>\n",
       "      <td>9.0</td>\n",
       "      <td>48.0</td>\n",
       "      <td>9.0</td>\n",
       "    </tr>\n",
       "    <tr>\n",
       "      <th>Banksville</th>\n",
       "      <td>929455212</td>\n",
       "      <td>362</td>\n",
       "      <td>0.000000e+00</td>\n",
       "      <td>0.0</td>\n",
       "      <td>0.0</td>\n",
       "      <td>0.0</td>\n",
       "      <td>0.0</td>\n",
       "      <td>0.0</td>\n",
       "      <td>0.0</td>\n",
       "      <td>0.0</td>\n",
       "      <td>0.0</td>\n",
       "      <td>-80.035543</td>\n",
       "      <td>40.408340</td>\n",
       "      <td>2.0</td>\n",
       "      <td>20.0</td>\n",
       "      <td>42003202300</td>\n",
       "      <td>5.0</td>\n",
       "      <td>20.0</td>\n",
       "      <td>6.0</td>\n",
       "    </tr>\n",
       "    <tr>\n",
       "      <th>Beechview</th>\n",
       "      <td>5904373717</td>\n",
       "      <td>608</td>\n",
       "      <td>3.259050e+09</td>\n",
       "      <td>4255.0</td>\n",
       "      <td>0.0</td>\n",
       "      <td>75.0</td>\n",
       "      <td>56.0</td>\n",
       "      <td>80.0</td>\n",
       "      <td>177.0</td>\n",
       "      <td>94.0</td>\n",
       "      <td>103.0</td>\n",
       "      <td>-320.100481</td>\n",
       "      <td>161.650227</td>\n",
       "      <td>16.0</td>\n",
       "      <td>76.0</td>\n",
       "      <td>168012766800</td>\n",
       "      <td>20.0</td>\n",
       "      <td>76.0</td>\n",
       "      <td>24.0</td>\n",
       "    </tr>\n",
       "  </tbody>\n",
       "</table>\n",
       "</div>"
      ],
      "text/plain": [
       "                          id  device_id    record_oid  \\\n",
       "neighborhood                                            \n",
       "Allegheny Center   462461649         78  3.743645e+08   \n",
       "Allegheny West    2137013195        221  2.090544e+09   \n",
       "Arlington         3968057830        725  2.836514e+09   \n",
       "Banksville         929455212        362  0.000000e+00   \n",
       "Beechview         5904373717        608  3.259050e+09   \n",
       "\n",
       "                  average_daily_car_traffic  average_daily_bike_traffic  \\\n",
       "neighborhood                                                              \n",
       "Allegheny Center                     2386.0                         0.0   \n",
       "Allegheny West                        477.0                         0.0   \n",
       "Arlington                            4571.0                         0.0   \n",
       "Banksville                              0.0                         0.0   \n",
       "Beechview                            4255.0                         0.0   \n",
       "\n",
       "                  speed_limit  max_speed  median_speed  percent_over_limit  \\\n",
       "neighborhood                                                                 \n",
       "Allegheny Center         25.0        0.0          27.0                65.0   \n",
       "Allegheny West           25.0        0.0          20.0                11.0   \n",
       "Arlington                50.0        0.0          53.0               123.0   \n",
       "Banksville                0.0        0.0           0.0                 0.0   \n",
       "Beechview                75.0       56.0          80.0               177.0   \n",
       "\n",
       "                  speed85_percent  speed95_percent   longitude    latitude  \\\n",
       "neighborhood                                                                 \n",
       "Allegheny Center             32.0             36.0  -80.009269   40.451106   \n",
       "Allegheny West               24.0             28.0  -80.016819   40.452706   \n",
       "Arlington                    62.0             69.0 -239.927663  121.252135   \n",
       "Banksville                    0.0              0.0  -80.035543   40.408340   \n",
       "Beechview                    94.0            103.0 -320.100481  161.650227   \n",
       "\n",
       "                  council_district  ward         tract  public_works_division  \\\n",
       "neighborhood                                                                    \n",
       "Allegheny Center               1.0  22.0   42003562700                    1.0   \n",
       "Allegheny West                 1.0  22.0   42003562700                    1.0   \n",
       "Arlington                      9.0  48.0  126010284000                    9.0   \n",
       "Banksville                     2.0  20.0   42003202300                    5.0   \n",
       "Beechview                     16.0  76.0  168012766800                   20.0   \n",
       "\n",
       "                  pli_division  police_zone  \n",
       "neighborhood                                 \n",
       "Allegheny Center          22.0          1.0  \n",
       "Allegheny West            22.0          1.0  \n",
       "Arlington                 48.0          9.0  \n",
       "Banksville                20.0          6.0  \n",
       "Beechview                 76.0         24.0  "
      ]
     },
     "execution_count": 26,
     "metadata": {},
     "output_type": "execute_result"
    }
   ],
   "source": [
    "traffic = pd.read_csv(\"traffic.csv\")\n",
    "grouped_data = traffic.groupby('neighborhood').sum()\n",
    "grouped_data.head(5)"
   ]
  },
  {
   "cell_type": "markdown",
   "metadata": {},
   "source": [
    "Next, i created a dictionary to determine which neighborhood has the most traffic."
   ]
  },
  {
   "cell_type": "code",
   "execution_count": 27,
   "metadata": {},
   "outputs": [],
   "source": [
    "neighborhood_count = {}\n",
    "for index, row in traffic.iterrows():\n",
    "    neighborhood = row['neighborhood']\n",
    "    if neighborhood not in neighborhood_count:\n",
    "        neighborhood_count[neighborhood] = 1\n",
    "    else:\n",
    "        neighborhood_count[neighborhood] += 1              "
   ]
  },
  {
   "cell_type": "code",
   "execution_count": 29,
   "metadata": {},
   "outputs": [
    {
     "data": {
      "text/plain": [
       "{'Polish Hill': 6,\n",
       " 'Central Lawrenceville': 8,\n",
       " 'Windgap': 3,\n",
       " 'Squirrel Hill South': 28,\n",
       " 'Perry North': 14,\n",
       " 'Central Northside': 7,\n",
       " 'Squirrel Hill North': 12,\n",
       " 'Central Oakland': 8,\n",
       " 'East Liberty': 16,\n",
       " 'Greenfield': 7,\n",
       " 'Bluff': 8,\n",
       " 'Crafton Heights': 1,\n",
       " 'Shadyside': 18,\n",
       " 'Upper Lawrenceville': 1,\n",
       " 'Highland Park': 16,\n",
       " 'North Shore': 3,\n",
       " 'Mount Washington': 16,\n",
       " 'Brookline': 12,\n",
       " 'South Shore': 2,\n",
       " 'South Side Flats': 4,\n",
       " 'Bloomfield': 21,\n",
       " 'Larimer': 11,\n",
       " 'Friendship': 2,\n",
       " 'South Oakland': 4,\n",
       " 'Point Breeze': 12,\n",
       " 'Westwood': 4,\n",
       " 'Regent Square': 1,\n",
       " 'Knoxville': 2,\n",
       " 'Strip District': 11,\n",
       " 'West Oakland': 2,\n",
       " 'Beechview': 4,\n",
       " 'South Side Slopes': 11,\n",
       " 'Upper Hill': 4,\n",
       " 'North Oakland': 8,\n",
       " 'Stanton Heights': 4,\n",
       " 'Manchester': 10,\n",
       " 'Morningside': 8,\n",
       " 'Hazelwood': 5,\n",
       " 'Lower Lawrenceville': 3,\n",
       " 'Overbrook': 2,\n",
       " 'East Hills': 7,\n",
       " 'Duquesne Heights': 1,\n",
       " 'Lincoln-Lemington-Belmar': 4,\n",
       " 'Sheraden': 4,\n",
       " 'Elliott': 5,\n",
       " 'Central Business District': 2,\n",
       " 'St. Clair': 2,\n",
       " 'Perry South': 6,\n",
       " 'Carrick': 10,\n",
       " 'Allegheny Center': 1,\n",
       " 'East Allegheny': 1,\n",
       " 'Chateau': 1,\n",
       " 'Swisshelm Park': 1,\n",
       " 'Allegheny West': 1,\n",
       " 'Marshall-Shadeland': 7,\n",
       " 'Arlington': 3,\n",
       " 'Homewood North': 4,\n",
       " 'Homewood South': 12,\n",
       " 'Point Breeze North': 2,\n",
       " 'California-Kirkbride': 4,\n",
       " 'Beltzhoover': 2,\n",
       " 'Brighton Heights': 4,\n",
       " 'Spring Garden': 1,\n",
       " 'Spring Hill-City View': 3,\n",
       " 'Fineview': 1,\n",
       " 'New Homestead': 1,\n",
       " 'Lincoln Place': 1,\n",
       " nan: 2,\n",
       " 'Oakwood': 1,\n",
       " 'Banksville': 1,\n",
       " 'Chartiers City': 1,\n",
       " 'Summer Hill': 2,\n",
       " 'Troy Hill': 1,\n",
       " 'Middle Hill': 1,\n",
       " 'Crawford-Roberts': 1}"
      ]
     },
     "execution_count": 29,
     "metadata": {},
     "output_type": "execute_result"
    }
   ],
   "source": [
    "neighborhood_count"
   ]
  },
  {
   "cell_type": "markdown",
   "metadata": {},
   "source": [
    "Sort the top neighborhoods."
   ]
  },
  {
   "cell_type": "code",
   "execution_count": 30,
   "metadata": {},
   "outputs": [],
   "source": [
    "sorted_neighborhoods = {k: v for k, v in sorted(neighborhood_count.items(), key=lambda item: item[1], reverse=True)}\n",
    "count = 5"
   ]
  },
  {
   "cell_type": "markdown",
   "metadata": {},
   "source": [
    "Create a list of the top neighborhoods and their counts by adding from dictionary."
   ]
  },
  {
   "cell_type": "code",
   "execution_count": 31,
   "metadata": {},
   "outputs": [],
   "source": [
    "top_neighborhood_counts = []\n",
    "top_neighborhood_names = []\n",
    "for neighborhood, count in sorted_neighborhoods.items():\n",
    "    top_neighborhood_counts.append(count)\n",
    "    top_neighborhood_names.append(neighborhood)\n",
    "    count -= 1\n",
    "    if count == 0:\n",
    "        break"
   ]
  },
  {
   "cell_type": "markdown",
   "metadata": {},
   "source": [
    "Here are the neighborhoods that showed up the most in the data set:"
   ]
  },
  {
   "cell_type": "code",
   "execution_count": 32,
   "metadata": {},
   "outputs": [
    {
     "name": "stdout",
     "output_type": "stream",
     "text": [
      "                 Neighborhood  Count\n",
      "0         Squirrel Hill South     28\n",
      "1                  Bloomfield     21\n",
      "2                   Shadyside     18\n",
      "3                East Liberty     16\n",
      "4               Highland Park     16\n",
      "5            Mount Washington     16\n",
      "6                 Perry North     14\n",
      "7         Squirrel Hill North     12\n",
      "8                   Brookline     12\n",
      "9                Point Breeze     12\n",
      "10             Homewood South     12\n",
      "11                    Larimer     11\n",
      "12             Strip District     11\n",
      "13          South Side Slopes     11\n",
      "14                 Manchester     10\n",
      "15                    Carrick     10\n",
      "16      Central Lawrenceville      8\n",
      "17            Central Oakland      8\n",
      "18                      Bluff      8\n",
      "19              North Oakland      8\n",
      "20                Morningside      8\n",
      "21          Central Northside      7\n",
      "22                 Greenfield      7\n",
      "23                 East Hills      7\n",
      "24         Marshall-Shadeland      7\n",
      "25                Polish Hill      6\n",
      "26                Perry South      6\n",
      "27                  Hazelwood      5\n",
      "28                    Elliott      5\n",
      "29           South Side Flats      4\n",
      "30              South Oakland      4\n",
      "31                   Westwood      4\n",
      "32                  Beechview      4\n",
      "33                 Upper Hill      4\n",
      "34            Stanton Heights      4\n",
      "35   Lincoln-Lemington-Belmar      4\n",
      "36                   Sheraden      4\n",
      "37             Homewood North      4\n",
      "38       California-Kirkbride      4\n",
      "39           Brighton Heights      4\n",
      "40                    Windgap      3\n",
      "41                North Shore      3\n",
      "42        Lower Lawrenceville      3\n",
      "43                  Arlington      3\n",
      "44      Spring Hill-City View      3\n",
      "45                South Shore      2\n",
      "46                 Friendship      2\n",
      "47                  Knoxville      2\n",
      "48               West Oakland      2\n",
      "49                  Overbrook      2\n",
      "50  Central Business District      2\n",
      "51                  St. Clair      2\n",
      "52         Point Breeze North      2\n",
      "53                Beltzhoover      2\n",
      "54                        NaN      2\n",
      "55                Summer Hill      2\n",
      "56            Crafton Heights      1\n"
     ]
    }
   ],
   "source": [
    "top_neighborhoods_df = pd.DataFrame({'Neighborhood': top_neighborhood_names, 'Count': top_neighborhood_counts})\n",
    "print(top_neighborhoods_df)"
   ]
  },
  {
   "cell_type": "markdown",
   "metadata": {},
   "source": [
    "Let's visualize the output using a graph."
   ]
  },
  {
   "cell_type": "code",
   "execution_count": 33,
   "metadata": {},
   "outputs": [
    {
     "data": {
      "text/plain": [
       "Text(0.5, 1.0, 'Number of Records per Neighborhood')"
      ]
     },
     "execution_count": 33,
     "metadata": {},
     "output_type": "execute_result"
    },
    {
     "data": {
      "image/png": "[encoded data removed]",
      "text/plain": [
       "<Figure size 720x360 with 1 Axes>"
      ]
     },
     "metadata": {
      "needs_background": "light"
     },
     "output_type": "display_data"
    }
   ],
   "source": [
    "fig = plt.figure(figsize=(10,5))\n",
    "ax = fig.add_subplot(111)\n",
    "\n",
    "width = 0.5\n",
    "ax.bar(range(0,len(top_neighborhood_counts)), top_neighborhood_counts, width=width/2)\n",
    "ax.set_xticks(range(0,len(top_neighborhood_counts)))\n",
    "ax.set_xticklabels(top_neighborhood_names)\n",
    "\n",
    "plt.xticks(rotation=90)\n",
    "ax.set_xlabel('Neighborhood')\n",
    "ax.set_ylabel('Number of Records')\n",
    "ax.set_title('Number of Records per Neighborhood')"
   ]
  },
  {
   "cell_type": "markdown",
   "metadata": {},
   "source": [
    "#### Conclusion:\n",
    "Squirel Hill South is the neighborhood with the most amount of traffic, which brings additional people to the neigborhood, and we know, more people, more pigeons."
   ]
  },
  {
   "cell_type": "markdown",
   "metadata": {},
   "source": [
    "## Metric 3: Number of Public Wifi Locations in the neighborhoods\n",
    "#### Jason Zukiewicz - Jaz88\n",
    "\n",
    "Why do we need Public Wifi? Because, pigeons are not real. They are Government Surveillance Drones. They need Wi-Fi to be online and report back to NSA. The datasets used:\n",
    "* Wi-Fi Locations\n",
    "* Zip Code Boundaries"
   ]
  },
  {
   "cell_type": "code",
   "execution_count": 37,
   "metadata": {},
   "outputs": [
    {
     "name": "stdout",
     "output_type": "stream",
     "text": [
      "/bin/bash: -c: line 0: syntax error near unexpected token `drone.jpg'\n",
      "/bin/bash: -c: line 0: `[drone](drone.jpg)'\n"
     ]
    }
   ],
   "source": [
    "![image.png](attachment:image.png)"
   ]
  },
  {
   "cell_type": "markdown",
   "metadata": {},
   "source": [
    "Importing libraries and datasets."
   ]
  },
  {
   "cell_type": "code",
   "execution_count": 38,
   "metadata": {},
   "outputs": [],
   "source": [
    "import pandas as pd\n",
    "wifi = pd.read_csv(\"pub-wifi.csv\",low_memory=False)\n",
    "zip = pd.read_csv(\"zip.csv\",low_memory=False)\n",
    "pitt_zip = pd.read_csv(\"pitt_zip.csv\",low_memory=False)"
   ]
  },
  {
   "cell_type": "markdown",
   "metadata": {},
   "source": [
    "The wifi files is missing a few neighborhhod names. I neede to sue the Zip Code Boundaries metric to match these. Firdt, i created a zip dictionary."
   ]
  },
  {
   "cell_type": "code",
   "execution_count": 39,
   "metadata": {},
   "outputs": [],
   "source": [
    "zip_dict = {}\n",
    "for index, row in zip.iterrows():\n",
    "    number = row['zip']\n",
    "    name = row['name']\n",
    "    zip_dict[number] = name"
   ]
  },
  {
   "cell_type": "markdown",
   "metadata": {},
   "source": [
    "Next, added the missing names to the dictionary."
   ]
  },
  {
   "cell_type": "code",
   "execution_count": 40,
   "metadata": {},
   "outputs": [],
   "source": [
    "for index, row in pitt_zip.iterrows():\n",
    "    number = row['Zip'] \n",
    "    name = row['Name']\n",
    "    zip_dict[number] = name"
   ]
  },
  {
   "cell_type": "markdown",
   "metadata": {},
   "source": [
    "Finally, created a dictionary of zipcodes and their associated count."
   ]
  },
  {
   "cell_type": "code",
   "execution_count": 41,
   "metadata": {},
   "outputs": [],
   "source": [
    "wifi_count = {}\n",
    "for index, row in wifi.iterrows():\n",
    "    try:\n",
    "        zip = int(row['zip'])\n",
    "        # Get Name from Zip\n",
    "        name = zip_dict[zip]\n",
    "    \n",
    "        if name is not None:\n",
    "            if name not in wifi_count:\n",
    "                wifi_count[name] = 1\n",
    "            else:\n",
    "                wifi_count[name] += 1   \n",
    "    except:\n",
    "        pass # Some entries have no zipcode"
   ]
  },
  {
   "cell_type": "code",
   "execution_count": null,
   "metadata": {},
   "outputs": [],
   "source": [
    "The output:"
   ]
  },
  {
   "cell_type": "markdown",
   "metadata": {},
   "source": [
    "sorted = {k:v for k,v in sorted(wifi_count.items(), key=lambda v:v[1], reverse=True)}\n",
    "count = 10\n",
    "for item in sorted.items():\n",
    "    print(item)\n",
    "    if count == 0:\n",
    "        break\n",
    "    else:\n",
    "      count -= 1"
   ]
  },
  {
   "cell_type": "markdown",
   "metadata": {},
   "source": [
    "I used geopandas to add the result on a map."
   ]
  },
  {
   "cell_type": "code",
   "execution_count": 43,
   "metadata": {},
   "outputs": [
    {
     "data": {
      "text/html": [
       "<div>\n",
       "<style scoped>\n",
       "    .dataframe tbody tr th:only-of-type {\n",
       "        vertical-align: middle;\n",
       "    }\n",
       "\n",
       "    .dataframe tbody tr th {\n",
       "        vertical-align: top;\n",
       "    }\n",
       "\n",
       "    .dataframe thead th {\n",
       "        text-align: right;\n",
       "    }\n",
       "</style>\n",
       "<table border=\"1\" class=\"dataframe\">\n",
       "  <thead>\n",
       "    <tr style=\"text-align: right;\">\n",
       "      <th></th>\n",
       "      <th>neighborhood</th>\n",
       "      <th>count</th>\n",
       "    </tr>\n",
       "  </thead>\n",
       "  <tbody>\n",
       "    <tr>\n",
       "      <th>0</th>\n",
       "      <td>allegheny</td>\n",
       "      <td>2</td>\n",
       "    </tr>\n",
       "    <tr>\n",
       "      <th>1</th>\n",
       "      <td>south hills</td>\n",
       "      <td>4</td>\n",
       "    </tr>\n",
       "    <tr>\n",
       "      <th>2</th>\n",
       "      <td>brookline</td>\n",
       "      <td>4</td>\n",
       "    </tr>\n",
       "    <tr>\n",
       "      <th>3</th>\n",
       "      <td>pittsburgh</td>\n",
       "      <td>47</td>\n",
       "    </tr>\n",
       "    <tr>\n",
       "      <th>4</th>\n",
       "      <td>oakland</td>\n",
       "      <td>5</td>\n",
       "    </tr>\n",
       "    <tr>\n",
       "      <th>5</th>\n",
       "      <td>squirrel hill</td>\n",
       "      <td>3</td>\n",
       "    </tr>\n",
       "    <tr>\n",
       "      <th>6</th>\n",
       "      <td>wabash</td>\n",
       "      <td>2</td>\n",
       "    </tr>\n",
       "    <tr>\n",
       "      <th>7</th>\n",
       "      <td>natrona heights</td>\n",
       "      <td>1</td>\n",
       "    </tr>\n",
       "    <tr>\n",
       "      <th>8</th>\n",
       "      <td>carnegie</td>\n",
       "      <td>2</td>\n",
       "    </tr>\n",
       "    <tr>\n",
       "      <th>9</th>\n",
       "      <td>bethel park</td>\n",
       "      <td>1</td>\n",
       "    </tr>\n",
       "    <tr>\n",
       "      <th>10</th>\n",
       "      <td>braddock</td>\n",
       "      <td>18</td>\n",
       "    </tr>\n",
       "    <tr>\n",
       "      <th>11</th>\n",
       "      <td>brentwood</td>\n",
       "      <td>3</td>\n",
       "    </tr>\n",
       "    <tr>\n",
       "      <th>12</th>\n",
       "      <td>bridgeville</td>\n",
       "      <td>1</td>\n",
       "    </tr>\n",
       "    <tr>\n",
       "      <th>13</th>\n",
       "      <td>clairton</td>\n",
       "      <td>2</td>\n",
       "    </tr>\n",
       "    <tr>\n",
       "      <th>14</th>\n",
       "      <td>coraopolis</td>\n",
       "      <td>2</td>\n",
       "    </tr>\n",
       "    <tr>\n",
       "      <th>15</th>\n",
       "      <td>duquesne</td>\n",
       "      <td>2</td>\n",
       "    </tr>\n",
       "    <tr>\n",
       "      <th>16</th>\n",
       "      <td>wilkinsburg</td>\n",
       "      <td>3</td>\n",
       "    </tr>\n",
       "    <tr>\n",
       "      <th>17</th>\n",
       "      <td>allison park</td>\n",
       "      <td>1</td>\n",
       "    </tr>\n",
       "    <tr>\n",
       "      <th>18</th>\n",
       "      <td>homestead</td>\n",
       "      <td>1</td>\n",
       "    </tr>\n",
       "    <tr>\n",
       "      <th>19</th>\n",
       "      <td>penn hills</td>\n",
       "      <td>5</td>\n",
       "    </tr>\n",
       "    <tr>\n",
       "      <th>20</th>\n",
       "      <td>mckeesport</td>\n",
       "      <td>2</td>\n",
       "    </tr>\n",
       "    <tr>\n",
       "      <th>21</th>\n",
       "      <td>monroeville</td>\n",
       "      <td>1</td>\n",
       "    </tr>\n",
       "    <tr>\n",
       "      <th>22</th>\n",
       "      <td>mt lebanon</td>\n",
       "      <td>1</td>\n",
       "    </tr>\n",
       "    <tr>\n",
       "      <th>23</th>\n",
       "      <td>swissvale</td>\n",
       "      <td>2</td>\n",
       "    </tr>\n",
       "    <tr>\n",
       "      <th>24</th>\n",
       "      <td>north versailles</td>\n",
       "      <td>2</td>\n",
       "    </tr>\n",
       "    <tr>\n",
       "      <th>25</th>\n",
       "      <td>oakmont</td>\n",
       "      <td>1</td>\n",
       "    </tr>\n",
       "    <tr>\n",
       "      <th>26</th>\n",
       "      <td>sewickley</td>\n",
       "      <td>1</td>\n",
       "    </tr>\n",
       "    <tr>\n",
       "      <th>27</th>\n",
       "      <td>sharpsburg</td>\n",
       "      <td>8</td>\n",
       "    </tr>\n",
       "    <tr>\n",
       "      <th>28</th>\n",
       "      <td>glenshaw</td>\n",
       "      <td>1</td>\n",
       "    </tr>\n",
       "    <tr>\n",
       "      <th>29</th>\n",
       "      <td>morgan</td>\n",
       "      <td>1</td>\n",
       "    </tr>\n",
       "    <tr>\n",
       "      <th>30</th>\n",
       "      <td>south park</td>\n",
       "      <td>1</td>\n",
       "    </tr>\n",
       "    <tr>\n",
       "      <th>31</th>\n",
       "      <td>springdale</td>\n",
       "      <td>1</td>\n",
       "    </tr>\n",
       "    <tr>\n",
       "      <th>32</th>\n",
       "      <td>mckees rocks</td>\n",
       "      <td>1</td>\n",
       "    </tr>\n",
       "    <tr>\n",
       "      <th>33</th>\n",
       "      <td>oakdale</td>\n",
       "      <td>1</td>\n",
       "    </tr>\n",
       "    <tr>\n",
       "      <th>34</th>\n",
       "      <td>castle shannon</td>\n",
       "      <td>1</td>\n",
       "    </tr>\n",
       "    <tr>\n",
       "      <th>35</th>\n",
       "      <td>gibsonia</td>\n",
       "      <td>1</td>\n",
       "    </tr>\n",
       "    <tr>\n",
       "      <th>36</th>\n",
       "      <td>kilbuck</td>\n",
       "      <td>1</td>\n",
       "    </tr>\n",
       "  </tbody>\n",
       "</table>\n",
       "</div>"
      ],
      "text/plain": [
       "        neighborhood  count\n",
       "0          allegheny      2\n",
       "1        south hills      4\n",
       "2          brookline      4\n",
       "3         pittsburgh     47\n",
       "4            oakland      5\n",
       "5      squirrel hill      3\n",
       "6             wabash      2\n",
       "7   natrona heights       1\n",
       "8           carnegie      2\n",
       "9        bethel park      1\n",
       "10          braddock     18\n",
       "11         brentwood      3\n",
       "12       bridgeville      1\n",
       "13          clairton      2\n",
       "14        coraopolis      2\n",
       "15          duquesne      2\n",
       "16       wilkinsburg      3\n",
       "17      allison park      1\n",
       "18         homestead      1\n",
       "19        penn hills      5\n",
       "20        mckeesport      2\n",
       "21       monroeville      1\n",
       "22        mt lebanon      1\n",
       "23         swissvale      2\n",
       "24  north versailles      2\n",
       "25           oakmont      1\n",
       "26         sewickley      1\n",
       "27        sharpsburg      8\n",
       "28          glenshaw      1\n",
       "29            morgan      1\n",
       "30        south park      1\n",
       "31        springdale      1\n",
       "32      mckees rocks      1\n",
       "33           oakdale      1\n",
       "34    castle shannon      1\n",
       "35          gibsonia      1\n",
       "36           kilbuck      1"
      ]
     },
     "execution_count": 43,
     "metadata": {},
     "output_type": "execute_result"
    }
   ],
   "source": [
    "import geopandas\n",
    "%matplotlib inline\n",
    "wifi_count =  {k.lower(): v for k, v in wifi_count.items()}\n",
    "s = pd.Series(wifi_count, name='count')\n",
    "s.index.name = 'neighborhood'\n",
    "s.reset_index()"
   ]
  },
  {
   "cell_type": "code",
   "execution_count": 45,
   "metadata": {},
   "outputs": [
    {
     "data": {
      "text/plain": [
       "<matplotlib.axes._subplots.AxesSubplot at 0x7f56443e5a30>"
      ]
     },
     "execution_count": 45,
     "metadata": {},
     "output_type": "execute_result"
    },
    {
     "data": {
      "image/png": "[encoded data removed]",
      "text/plain": [
       "<Figure size 432x288 with 1 Axes>"
      ]
     },
     "metadata": {
      "needs_background": "light"
     },
     "output_type": "display_data"
    }
   ],
   "source": [
    "neighborhoods = geopandas.read_file(\"Neighborhoods/Neighborhoods_.shp\") # read in the shapefile\n",
    "neighborhoods['hood'] = neighborhoods['hood'].str.lower()\n",
    "neighborhoods.plot() # plot the geopandas dataframe"
   ]
  },
  {
   "cell_type": "code",
   "execution_count": 46,
   "metadata": {},
   "outputs": [
    {
     "data": {
      "text/html": [
       "<div>\n",
       "<style scoped>\n",
       "    .dataframe tbody tr th:only-of-type {\n",
       "        vertical-align: middle;\n",
       "    }\n",
       "\n",
       "    .dataframe tbody tr th {\n",
       "        vertical-align: top;\n",
       "    }\n",
       "\n",
       "    .dataframe thead th {\n",
       "        text-align: right;\n",
       "    }\n",
       "</style>\n",
       "<table border=\"1\" class=\"dataframe\">\n",
       "  <thead>\n",
       "    <tr style=\"text-align: right;\">\n",
       "      <th></th>\n",
       "      <th>hood</th>\n",
       "      <th>count</th>\n",
       "      <th>geometry</th>\n",
       "    </tr>\n",
       "  </thead>\n",
       "  <tbody>\n",
       "    <tr>\n",
       "      <th>0</th>\n",
       "      <td>central oakland</td>\n",
       "      <td>NaN</td>\n",
       "      <td>POLYGON ((-79.95304 40.44203, -79.95302 40.442...</td>\n",
       "    </tr>\n",
       "    <tr>\n",
       "      <th>1</th>\n",
       "      <td>north oakland</td>\n",
       "      <td>NaN</td>\n",
       "      <td>POLYGON ((-79.95455 40.45882, -79.95427 40.458...</td>\n",
       "    </tr>\n",
       "    <tr>\n",
       "      <th>2</th>\n",
       "      <td>west oakland</td>\n",
       "      <td>NaN</td>\n",
       "      <td>POLYGON ((-79.96230 40.44294, -79.96220 40.442...</td>\n",
       "    </tr>\n",
       "    <tr>\n",
       "      <th>3</th>\n",
       "      <td>crawford-roberts</td>\n",
       "      <td>NaN</td>\n",
       "      <td>POLYGON ((-79.98275 40.44641, -79.98273 40.446...</td>\n",
       "    </tr>\n",
       "    <tr>\n",
       "      <th>4</th>\n",
       "      <td>strip district</td>\n",
       "      <td>NaN</td>\n",
       "      <td>POLYGON ((-79.97494 40.45629, -79.97484 40.456...</td>\n",
       "    </tr>\n",
       "  </tbody>\n",
       "</table>\n",
       "</div>"
      ],
      "text/plain": [
       "               hood  count                                           geometry\n",
       "0   central oakland    NaN  POLYGON ((-79.95304 40.44203, -79.95302 40.442...\n",
       "1     north oakland    NaN  POLYGON ((-79.95455 40.45882, -79.95427 40.458...\n",
       "2      west oakland    NaN  POLYGON ((-79.96230 40.44294, -79.96220 40.442...\n",
       "3  crawford-roberts    NaN  POLYGON ((-79.98275 40.44641, -79.98273 40.446...\n",
       "4    strip district    NaN  POLYGON ((-79.97494 40.45629, -79.97484 40.456..."
      ]
     },
     "execution_count": 46,
     "metadata": {},
     "output_type": "execute_result"
    }
   ],
   "source": [
    "# do the merge\n",
    "count_map = neighborhoods.merge(s, how='left', left_on='hood', right_on='neighborhood')\n",
    "# look at the head to confirm it merged correctly\n",
    "count_map[['hood','count','geometry']].head()\n",
    "# There seems to be an issue with the merge\n",
    "# I can see that my data has only Oakland while the map has central, north, and west this is part of the issue"
   ]
  },
  {
   "cell_type": "code",
   "execution_count": 47,
   "metadata": {},
   "outputs": [
    {
     "data": {
      "text/plain": [
       "<matplotlib.axes._subplots.AxesSubplot at 0x7f56440b8d00>"
      ]
     },
     "execution_count": 47,
     "metadata": {},
     "output_type": "execute_result"
    },
    {
     "data": {
      "image/png": "[encoded data removed]",
      "text/plain": [
       "<Figure size 1080x720 with 2 Axes>"
      ]
     },
     "metadata": {
      "needs_background": "light"
     },
     "output_type": "display_data"
    }
   ],
   "source": [
    "count_map.plot(column='count', # set the data to be used for coloring\n",
    "               cmap='OrRd',              # choose a color palette\n",
    "               edgecolor=\"white\",        # outline the districts in white\n",
    "               legend=True,              # show the legend\n",
    "               legend_kwds={'label': \"Number of Wifi Spots\"}, # label the legend\n",
    "               figsize=(15, 10),         # set the  size\n",
    "               missing_kwds={\"color\": \"lightgrey\"} # set disctricts with no data to gray\n",
    "               )"
   ]
  },
  {
   "cell_type": "markdown",
   "metadata": {},
   "source": [
    "#### Conclusion:\n",
    "\n",
    "The city has the most wifi spots. This data is probably skewed because of the zip code translation, a lot of zip codes are generalized to pittsburgh. However, I feel Confident that there are also a lot of buisnesses and institutes that have wifi.\n",
    "\n",
    "I am suprirsed by Braddock also having many spots, compared to all other neighborhoods being so low.\n",
    "I dont know that area so I cant make any assumtions about it."
   ]
  },
  {
   "cell_type": "markdown",
   "metadata": {},
   "source": [
    "### Final Conclusion\n",
    "\n",
    "If pigeons are real, the best neighborhood for them to live in is definitely Squirrel Hill South. Its the biggest, its the most populous and has the most traffic. \n",
    "\n",
    "If pigeons are not real, Squirrel Hill South is stilla  good option, there a lot of people to survey and lots of trres to hide. They might jsut need to fly over to Downtown to upload the data."
   ]
  },
  {
   "cell_type": "code",
   "execution_count": null,
   "metadata": {},
   "outputs": [],
   "source": []
  }
 ],
 "metadata": {
  "kernelspec": {
   "display_name": "Python 3",
   "language": "python",
   "name": "python3"
  },
  "language_info": {
   "codemirror_mode": {
    "name": "ipython",
    "version": 3
   },
   "file_extension": ".py",
   "mimetype": "text/x-python",
   "name": "python",
   "nbconvert_exporter": "python",
   "pygments_lexer": "ipython3",
   "version": "3.8.3"
  }
 },
 "nbformat": 4,
 "nbformat_minor": 4
}
